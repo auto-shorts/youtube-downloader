{
 "cells": [
  {
   "cell_type": "code",
   "execution_count": 1,
   "metadata": {
    "collapsed": true,
    "pycharm": {
     "name": "#%%\n"
    }
   },
   "outputs": [],
   "source": [
    "import boto3"
   ]
  },
  {
   "cell_type": "code",
   "execution_count": 2,
   "outputs": [],
   "source": [
    "s3 = boto3.resource('s3')\n",
    "bucket = s3.Bucket('auto-shorts')\n"
   ],
   "metadata": {
    "collapsed": false,
    "pycharm": {
     "name": "#%%\n"
    }
   }
  },
  {
   "cell_type": "code",
   "execution_count": 3,
   "outputs": [
    {
     "ename": "NoCredentialsError",
     "evalue": "Unable to locate credentials",
     "output_type": "error",
     "traceback": [
      "\u001B[0;31m---------------------------------------------------------------------------\u001B[0m",
      "\u001B[0;31mNoCredentialsError\u001B[0m                        Traceback (most recent call last)",
      "Cell \u001B[0;32mIn[3], line 2\u001B[0m\n\u001B[1;32m      1\u001B[0m npy_files \u001B[38;5;241m=\u001B[39m []\n\u001B[0;32m----> 2\u001B[0m \u001B[38;5;28;01mfor\u001B[39;00m obj \u001B[38;5;129;01min\u001B[39;00m bucket\u001B[38;5;241m.\u001B[39mobjects\u001B[38;5;241m.\u001B[39mfilter(Prefix\u001B[38;5;241m=\u001B[39m\u001B[38;5;124m'\u001B[39m\u001B[38;5;124mdata/videos/\u001B[39m\u001B[38;5;124m'\u001B[39m):\n\u001B[1;32m      3\u001B[0m     \u001B[38;5;28;01mif\u001B[39;00m obj\u001B[38;5;241m.\u001B[39mkey\u001B[38;5;241m.\u001B[39mendswith(\u001B[38;5;124m'\u001B[39m\u001B[38;5;124m.npy\u001B[39m\u001B[38;5;124m'\u001B[39m):\n\u001B[1;32m      4\u001B[0m         npy_files\u001B[38;5;241m.\u001B[39mappend(obj\u001B[38;5;241m.\u001B[39mkey)\n",
      "File \u001B[0;32m~/Library/Caches/pypoetry/virtualenvs/auto-shorts-x_MFKcYt-py3.10/lib/python3.10/site-packages/boto3/resources/collection.py:81\u001B[0m, in \u001B[0;36mResourceCollection.__iter__\u001B[0;34m(self)\u001B[0m\n\u001B[1;32m     78\u001B[0m limit \u001B[38;5;241m=\u001B[39m \u001B[38;5;28mself\u001B[39m\u001B[38;5;241m.\u001B[39m_params\u001B[38;5;241m.\u001B[39mget(\u001B[38;5;124m'\u001B[39m\u001B[38;5;124mlimit\u001B[39m\u001B[38;5;124m'\u001B[39m, \u001B[38;5;28;01mNone\u001B[39;00m)\n\u001B[1;32m     80\u001B[0m count \u001B[38;5;241m=\u001B[39m \u001B[38;5;241m0\u001B[39m\n\u001B[0;32m---> 81\u001B[0m \u001B[38;5;28;01mfor\u001B[39;00m page \u001B[38;5;129;01min\u001B[39;00m \u001B[38;5;28mself\u001B[39m\u001B[38;5;241m.\u001B[39mpages():\n\u001B[1;32m     82\u001B[0m     \u001B[38;5;28;01mfor\u001B[39;00m item \u001B[38;5;129;01min\u001B[39;00m page:\n\u001B[1;32m     83\u001B[0m         \u001B[38;5;28;01myield\u001B[39;00m item\n",
      "File \u001B[0;32m~/Library/Caches/pypoetry/virtualenvs/auto-shorts-x_MFKcYt-py3.10/lib/python3.10/site-packages/boto3/resources/collection.py:171\u001B[0m, in \u001B[0;36mResourceCollection.pages\u001B[0;34m(self)\u001B[0m\n\u001B[1;32m    168\u001B[0m \u001B[38;5;66;03m# Now that we have a page iterator or single page of results\u001B[39;00m\n\u001B[1;32m    169\u001B[0m \u001B[38;5;66;03m# we start processing and yielding individual items.\u001B[39;00m\n\u001B[1;32m    170\u001B[0m count \u001B[38;5;241m=\u001B[39m \u001B[38;5;241m0\u001B[39m\n\u001B[0;32m--> 171\u001B[0m \u001B[38;5;28;01mfor\u001B[39;00m page \u001B[38;5;129;01min\u001B[39;00m pages:\n\u001B[1;32m    172\u001B[0m     page_items \u001B[38;5;241m=\u001B[39m []\n\u001B[1;32m    173\u001B[0m     \u001B[38;5;28;01mfor\u001B[39;00m item \u001B[38;5;129;01min\u001B[39;00m \u001B[38;5;28mself\u001B[39m\u001B[38;5;241m.\u001B[39m_handler(\u001B[38;5;28mself\u001B[39m\u001B[38;5;241m.\u001B[39m_parent, params, page):\n",
      "File \u001B[0;32m~/Library/Caches/pypoetry/virtualenvs/auto-shorts-x_MFKcYt-py3.10/lib/python3.10/site-packages/botocore/paginate.py:269\u001B[0m, in \u001B[0;36mPageIterator.__iter__\u001B[0;34m(self)\u001B[0m\n\u001B[1;32m    267\u001B[0m \u001B[38;5;28mself\u001B[39m\u001B[38;5;241m.\u001B[39m_inject_starting_params(current_kwargs)\n\u001B[1;32m    268\u001B[0m \u001B[38;5;28;01mwhile\u001B[39;00m \u001B[38;5;28;01mTrue\u001B[39;00m:\n\u001B[0;32m--> 269\u001B[0m     response \u001B[38;5;241m=\u001B[39m \u001B[38;5;28;43mself\u001B[39;49m\u001B[38;5;241;43m.\u001B[39;49m\u001B[43m_make_request\u001B[49m\u001B[43m(\u001B[49m\u001B[43mcurrent_kwargs\u001B[49m\u001B[43m)\u001B[49m\n\u001B[1;32m    270\u001B[0m     parsed \u001B[38;5;241m=\u001B[39m \u001B[38;5;28mself\u001B[39m\u001B[38;5;241m.\u001B[39m_extract_parsed_response(response)\n\u001B[1;32m    271\u001B[0m     \u001B[38;5;28;01mif\u001B[39;00m first_request:\n\u001B[1;32m    272\u001B[0m         \u001B[38;5;66;03m# The first request is handled differently.  We could\u001B[39;00m\n\u001B[1;32m    273\u001B[0m         \u001B[38;5;66;03m# possibly have a resume/starting token that tells us where\u001B[39;00m\n\u001B[1;32m    274\u001B[0m         \u001B[38;5;66;03m# to index into the retrieved page.\u001B[39;00m\n",
      "File \u001B[0;32m~/Library/Caches/pypoetry/virtualenvs/auto-shorts-x_MFKcYt-py3.10/lib/python3.10/site-packages/botocore/paginate.py:357\u001B[0m, in \u001B[0;36mPageIterator._make_request\u001B[0;34m(self, current_kwargs)\u001B[0m\n\u001B[1;32m    356\u001B[0m \u001B[38;5;28;01mdef\u001B[39;00m \u001B[38;5;21m_make_request\u001B[39m(\u001B[38;5;28mself\u001B[39m, current_kwargs):\n\u001B[0;32m--> 357\u001B[0m     \u001B[38;5;28;01mreturn\u001B[39;00m \u001B[38;5;28;43mself\u001B[39;49m\u001B[38;5;241;43m.\u001B[39;49m\u001B[43m_method\u001B[49m\u001B[43m(\u001B[49m\u001B[38;5;241;43m*\u001B[39;49m\u001B[38;5;241;43m*\u001B[39;49m\u001B[43mcurrent_kwargs\u001B[49m\u001B[43m)\u001B[49m\n",
      "File \u001B[0;32m~/Library/Caches/pypoetry/virtualenvs/auto-shorts-x_MFKcYt-py3.10/lib/python3.10/site-packages/botocore/client.py:530\u001B[0m, in \u001B[0;36mClientCreator._create_api_method.<locals>._api_call\u001B[0;34m(self, *args, **kwargs)\u001B[0m\n\u001B[1;32m    526\u001B[0m     \u001B[38;5;28;01mraise\u001B[39;00m \u001B[38;5;167;01mTypeError\u001B[39;00m(\n\u001B[1;32m    527\u001B[0m         \u001B[38;5;124mf\u001B[39m\u001B[38;5;124m\"\u001B[39m\u001B[38;5;132;01m{\u001B[39;00mpy_operation_name\u001B[38;5;132;01m}\u001B[39;00m\u001B[38;5;124m() only accepts keyword arguments.\u001B[39m\u001B[38;5;124m\"\u001B[39m\n\u001B[1;32m    528\u001B[0m     )\n\u001B[1;32m    529\u001B[0m \u001B[38;5;66;03m# The \"self\" in this scope is referring to the BaseClient.\u001B[39;00m\n\u001B[0;32m--> 530\u001B[0m \u001B[38;5;28;01mreturn\u001B[39;00m \u001B[38;5;28;43mself\u001B[39;49m\u001B[38;5;241;43m.\u001B[39;49m\u001B[43m_make_api_call\u001B[49m\u001B[43m(\u001B[49m\u001B[43moperation_name\u001B[49m\u001B[43m,\u001B[49m\u001B[43m \u001B[49m\u001B[43mkwargs\u001B[49m\u001B[43m)\u001B[49m\n",
      "File \u001B[0;32m~/Library/Caches/pypoetry/virtualenvs/auto-shorts-x_MFKcYt-py3.10/lib/python3.10/site-packages/botocore/client.py:943\u001B[0m, in \u001B[0;36mBaseClient._make_api_call\u001B[0;34m(self, operation_name, api_params)\u001B[0m\n\u001B[1;32m    941\u001B[0m \u001B[38;5;28;01melse\u001B[39;00m:\n\u001B[1;32m    942\u001B[0m     apply_request_checksum(request_dict)\n\u001B[0;32m--> 943\u001B[0m     http, parsed_response \u001B[38;5;241m=\u001B[39m \u001B[38;5;28;43mself\u001B[39;49m\u001B[38;5;241;43m.\u001B[39;49m\u001B[43m_make_request\u001B[49m\u001B[43m(\u001B[49m\n\u001B[1;32m    944\u001B[0m \u001B[43m        \u001B[49m\u001B[43moperation_model\u001B[49m\u001B[43m,\u001B[49m\u001B[43m \u001B[49m\u001B[43mrequest_dict\u001B[49m\u001B[43m,\u001B[49m\u001B[43m \u001B[49m\u001B[43mrequest_context\u001B[49m\n\u001B[1;32m    945\u001B[0m \u001B[43m    \u001B[49m\u001B[43m)\u001B[49m\n\u001B[1;32m    947\u001B[0m \u001B[38;5;28mself\u001B[39m\u001B[38;5;241m.\u001B[39mmeta\u001B[38;5;241m.\u001B[39mevents\u001B[38;5;241m.\u001B[39memit(\n\u001B[1;32m    948\u001B[0m     \u001B[38;5;124m'\u001B[39m\u001B[38;5;124mafter-call.\u001B[39m\u001B[38;5;132;01m{service_id}\u001B[39;00m\u001B[38;5;124m.\u001B[39m\u001B[38;5;132;01m{operation_name}\u001B[39;00m\u001B[38;5;124m'\u001B[39m\u001B[38;5;241m.\u001B[39mformat(\n\u001B[1;32m    949\u001B[0m         service_id\u001B[38;5;241m=\u001B[39mservice_id, operation_name\u001B[38;5;241m=\u001B[39moperation_name\n\u001B[0;32m   (...)\u001B[0m\n\u001B[1;32m    954\u001B[0m     context\u001B[38;5;241m=\u001B[39mrequest_context,\n\u001B[1;32m    955\u001B[0m )\n\u001B[1;32m    957\u001B[0m \u001B[38;5;28;01mif\u001B[39;00m http\u001B[38;5;241m.\u001B[39mstatus_code \u001B[38;5;241m>\u001B[39m\u001B[38;5;241m=\u001B[39m \u001B[38;5;241m300\u001B[39m:\n",
      "File \u001B[0;32m~/Library/Caches/pypoetry/virtualenvs/auto-shorts-x_MFKcYt-py3.10/lib/python3.10/site-packages/botocore/client.py:966\u001B[0m, in \u001B[0;36mBaseClient._make_request\u001B[0;34m(self, operation_model, request_dict, request_context)\u001B[0m\n\u001B[1;32m    964\u001B[0m \u001B[38;5;28;01mdef\u001B[39;00m \u001B[38;5;21m_make_request\u001B[39m(\u001B[38;5;28mself\u001B[39m, operation_model, request_dict, request_context):\n\u001B[1;32m    965\u001B[0m     \u001B[38;5;28;01mtry\u001B[39;00m:\n\u001B[0;32m--> 966\u001B[0m         \u001B[38;5;28;01mreturn\u001B[39;00m \u001B[38;5;28;43mself\u001B[39;49m\u001B[38;5;241;43m.\u001B[39;49m\u001B[43m_endpoint\u001B[49m\u001B[38;5;241;43m.\u001B[39;49m\u001B[43mmake_request\u001B[49m\u001B[43m(\u001B[49m\u001B[43moperation_model\u001B[49m\u001B[43m,\u001B[49m\u001B[43m \u001B[49m\u001B[43mrequest_dict\u001B[49m\u001B[43m)\u001B[49m\n\u001B[1;32m    967\u001B[0m     \u001B[38;5;28;01mexcept\u001B[39;00m \u001B[38;5;167;01mException\u001B[39;00m \u001B[38;5;28;01mas\u001B[39;00m e:\n\u001B[1;32m    968\u001B[0m         \u001B[38;5;28mself\u001B[39m\u001B[38;5;241m.\u001B[39mmeta\u001B[38;5;241m.\u001B[39mevents\u001B[38;5;241m.\u001B[39memit(\n\u001B[1;32m    969\u001B[0m             \u001B[38;5;124m'\u001B[39m\u001B[38;5;124mafter-call-error.\u001B[39m\u001B[38;5;132;01m{service_id}\u001B[39;00m\u001B[38;5;124m.\u001B[39m\u001B[38;5;132;01m{operation_name}\u001B[39;00m\u001B[38;5;124m'\u001B[39m\u001B[38;5;241m.\u001B[39mformat(\n\u001B[1;32m    970\u001B[0m                 service_id\u001B[38;5;241m=\u001B[39m\u001B[38;5;28mself\u001B[39m\u001B[38;5;241m.\u001B[39m_service_model\u001B[38;5;241m.\u001B[39mservice_id\u001B[38;5;241m.\u001B[39mhyphenize(),\n\u001B[0;32m   (...)\u001B[0m\n\u001B[1;32m    974\u001B[0m             context\u001B[38;5;241m=\u001B[39mrequest_context,\n\u001B[1;32m    975\u001B[0m         )\n",
      "File \u001B[0;32m~/Library/Caches/pypoetry/virtualenvs/auto-shorts-x_MFKcYt-py3.10/lib/python3.10/site-packages/botocore/endpoint.py:119\u001B[0m, in \u001B[0;36mEndpoint.make_request\u001B[0;34m(self, operation_model, request_dict)\u001B[0m\n\u001B[1;32m    113\u001B[0m \u001B[38;5;28;01mdef\u001B[39;00m \u001B[38;5;21mmake_request\u001B[39m(\u001B[38;5;28mself\u001B[39m, operation_model, request_dict):\n\u001B[1;32m    114\u001B[0m     logger\u001B[38;5;241m.\u001B[39mdebug(\n\u001B[1;32m    115\u001B[0m         \u001B[38;5;124m\"\u001B[39m\u001B[38;5;124mMaking request for \u001B[39m\u001B[38;5;132;01m%s\u001B[39;00m\u001B[38;5;124m with params: \u001B[39m\u001B[38;5;132;01m%s\u001B[39;00m\u001B[38;5;124m\"\u001B[39m,\n\u001B[1;32m    116\u001B[0m         operation_model,\n\u001B[1;32m    117\u001B[0m         request_dict,\n\u001B[1;32m    118\u001B[0m     )\n\u001B[0;32m--> 119\u001B[0m     \u001B[38;5;28;01mreturn\u001B[39;00m \u001B[38;5;28;43mself\u001B[39;49m\u001B[38;5;241;43m.\u001B[39;49m\u001B[43m_send_request\u001B[49m\u001B[43m(\u001B[49m\u001B[43mrequest_dict\u001B[49m\u001B[43m,\u001B[49m\u001B[43m \u001B[49m\u001B[43moperation_model\u001B[49m\u001B[43m)\u001B[49m\n",
      "File \u001B[0;32m~/Library/Caches/pypoetry/virtualenvs/auto-shorts-x_MFKcYt-py3.10/lib/python3.10/site-packages/botocore/endpoint.py:198\u001B[0m, in \u001B[0;36mEndpoint._send_request\u001B[0;34m(self, request_dict, operation_model)\u001B[0m\n\u001B[1;32m    196\u001B[0m context \u001B[38;5;241m=\u001B[39m request_dict[\u001B[38;5;124m'\u001B[39m\u001B[38;5;124mcontext\u001B[39m\u001B[38;5;124m'\u001B[39m]\n\u001B[1;32m    197\u001B[0m \u001B[38;5;28mself\u001B[39m\u001B[38;5;241m.\u001B[39m_update_retries_context(context, attempts)\n\u001B[0;32m--> 198\u001B[0m request \u001B[38;5;241m=\u001B[39m \u001B[38;5;28;43mself\u001B[39;49m\u001B[38;5;241;43m.\u001B[39;49m\u001B[43mcreate_request\u001B[49m\u001B[43m(\u001B[49m\u001B[43mrequest_dict\u001B[49m\u001B[43m,\u001B[49m\u001B[43m \u001B[49m\u001B[43moperation_model\u001B[49m\u001B[43m)\u001B[49m\n\u001B[1;32m    199\u001B[0m success_response, exception \u001B[38;5;241m=\u001B[39m \u001B[38;5;28mself\u001B[39m\u001B[38;5;241m.\u001B[39m_get_response(\n\u001B[1;32m    200\u001B[0m     request, operation_model, context\n\u001B[1;32m    201\u001B[0m )\n\u001B[1;32m    202\u001B[0m \u001B[38;5;28;01mwhile\u001B[39;00m \u001B[38;5;28mself\u001B[39m\u001B[38;5;241m.\u001B[39m_needs_retry(\n\u001B[1;32m    203\u001B[0m     attempts,\n\u001B[1;32m    204\u001B[0m     operation_model,\n\u001B[0;32m   (...)\u001B[0m\n\u001B[1;32m    207\u001B[0m     exception,\n\u001B[1;32m    208\u001B[0m ):\n",
      "File \u001B[0;32m~/Library/Caches/pypoetry/virtualenvs/auto-shorts-x_MFKcYt-py3.10/lib/python3.10/site-packages/botocore/endpoint.py:134\u001B[0m, in \u001B[0;36mEndpoint.create_request\u001B[0;34m(self, params, operation_model)\u001B[0m\n\u001B[1;32m    130\u001B[0m     service_id \u001B[38;5;241m=\u001B[39m operation_model\u001B[38;5;241m.\u001B[39mservice_model\u001B[38;5;241m.\u001B[39mservice_id\u001B[38;5;241m.\u001B[39mhyphenize()\n\u001B[1;32m    131\u001B[0m     event_name \u001B[38;5;241m=\u001B[39m \u001B[38;5;124m'\u001B[39m\u001B[38;5;124mrequest-created.\u001B[39m\u001B[38;5;132;01m{service_id}\u001B[39;00m\u001B[38;5;124m.\u001B[39m\u001B[38;5;132;01m{op_name}\u001B[39;00m\u001B[38;5;124m'\u001B[39m\u001B[38;5;241m.\u001B[39mformat(\n\u001B[1;32m    132\u001B[0m         service_id\u001B[38;5;241m=\u001B[39mservice_id, op_name\u001B[38;5;241m=\u001B[39moperation_model\u001B[38;5;241m.\u001B[39mname\n\u001B[1;32m    133\u001B[0m     )\n\u001B[0;32m--> 134\u001B[0m     \u001B[38;5;28;43mself\u001B[39;49m\u001B[38;5;241;43m.\u001B[39;49m\u001B[43m_event_emitter\u001B[49m\u001B[38;5;241;43m.\u001B[39;49m\u001B[43memit\u001B[49m\u001B[43m(\u001B[49m\n\u001B[1;32m    135\u001B[0m \u001B[43m        \u001B[49m\u001B[43mevent_name\u001B[49m\u001B[43m,\u001B[49m\n\u001B[1;32m    136\u001B[0m \u001B[43m        \u001B[49m\u001B[43mrequest\u001B[49m\u001B[38;5;241;43m=\u001B[39;49m\u001B[43mrequest\u001B[49m\u001B[43m,\u001B[49m\n\u001B[1;32m    137\u001B[0m \u001B[43m        \u001B[49m\u001B[43moperation_name\u001B[49m\u001B[38;5;241;43m=\u001B[39;49m\u001B[43moperation_model\u001B[49m\u001B[38;5;241;43m.\u001B[39;49m\u001B[43mname\u001B[49m\u001B[43m,\u001B[49m\n\u001B[1;32m    138\u001B[0m \u001B[43m    \u001B[49m\u001B[43m)\u001B[49m\n\u001B[1;32m    139\u001B[0m prepared_request \u001B[38;5;241m=\u001B[39m \u001B[38;5;28mself\u001B[39m\u001B[38;5;241m.\u001B[39mprepare_request(request)\n\u001B[1;32m    140\u001B[0m \u001B[38;5;28;01mreturn\u001B[39;00m prepared_request\n",
      "File \u001B[0;32m~/Library/Caches/pypoetry/virtualenvs/auto-shorts-x_MFKcYt-py3.10/lib/python3.10/site-packages/botocore/hooks.py:412\u001B[0m, in \u001B[0;36mEventAliaser.emit\u001B[0;34m(self, event_name, **kwargs)\u001B[0m\n\u001B[1;32m    410\u001B[0m \u001B[38;5;28;01mdef\u001B[39;00m \u001B[38;5;21memit\u001B[39m(\u001B[38;5;28mself\u001B[39m, event_name, \u001B[38;5;241m*\u001B[39m\u001B[38;5;241m*\u001B[39mkwargs):\n\u001B[1;32m    411\u001B[0m     aliased_event_name \u001B[38;5;241m=\u001B[39m \u001B[38;5;28mself\u001B[39m\u001B[38;5;241m.\u001B[39m_alias_event_name(event_name)\n\u001B[0;32m--> 412\u001B[0m     \u001B[38;5;28;01mreturn\u001B[39;00m \u001B[38;5;28;43mself\u001B[39;49m\u001B[38;5;241;43m.\u001B[39;49m\u001B[43m_emitter\u001B[49m\u001B[38;5;241;43m.\u001B[39;49m\u001B[43memit\u001B[49m\u001B[43m(\u001B[49m\u001B[43maliased_event_name\u001B[49m\u001B[43m,\u001B[49m\u001B[43m \u001B[49m\u001B[38;5;241;43m*\u001B[39;49m\u001B[38;5;241;43m*\u001B[39;49m\u001B[43mkwargs\u001B[49m\u001B[43m)\u001B[49m\n",
      "File \u001B[0;32m~/Library/Caches/pypoetry/virtualenvs/auto-shorts-x_MFKcYt-py3.10/lib/python3.10/site-packages/botocore/hooks.py:256\u001B[0m, in \u001B[0;36mHierarchicalEmitter.emit\u001B[0;34m(self, event_name, **kwargs)\u001B[0m\n\u001B[1;32m    245\u001B[0m \u001B[38;5;28;01mdef\u001B[39;00m \u001B[38;5;21memit\u001B[39m(\u001B[38;5;28mself\u001B[39m, event_name, \u001B[38;5;241m*\u001B[39m\u001B[38;5;241m*\u001B[39mkwargs):\n\u001B[1;32m    246\u001B[0m \u001B[38;5;250m    \u001B[39m\u001B[38;5;124;03m\"\"\"\u001B[39;00m\n\u001B[1;32m    247\u001B[0m \u001B[38;5;124;03m    Emit an event by name with arguments passed as keyword args.\u001B[39;00m\n\u001B[1;32m    248\u001B[0m \n\u001B[0;32m   (...)\u001B[0m\n\u001B[1;32m    254\u001B[0m \u001B[38;5;124;03m             handlers.\u001B[39;00m\n\u001B[1;32m    255\u001B[0m \u001B[38;5;124;03m    \"\"\"\u001B[39;00m\n\u001B[0;32m--> 256\u001B[0m     \u001B[38;5;28;01mreturn\u001B[39;00m \u001B[38;5;28;43mself\u001B[39;49m\u001B[38;5;241;43m.\u001B[39;49m\u001B[43m_emit\u001B[49m\u001B[43m(\u001B[49m\u001B[43mevent_name\u001B[49m\u001B[43m,\u001B[49m\u001B[43m \u001B[49m\u001B[43mkwargs\u001B[49m\u001B[43m)\u001B[49m\n",
      "File \u001B[0;32m~/Library/Caches/pypoetry/virtualenvs/auto-shorts-x_MFKcYt-py3.10/lib/python3.10/site-packages/botocore/hooks.py:239\u001B[0m, in \u001B[0;36mHierarchicalEmitter._emit\u001B[0;34m(self, event_name, kwargs, stop_on_response)\u001B[0m\n\u001B[1;32m    237\u001B[0m \u001B[38;5;28;01mfor\u001B[39;00m handler \u001B[38;5;129;01min\u001B[39;00m handlers_to_call:\n\u001B[1;32m    238\u001B[0m     logger\u001B[38;5;241m.\u001B[39mdebug(\u001B[38;5;124m'\u001B[39m\u001B[38;5;124mEvent \u001B[39m\u001B[38;5;132;01m%s\u001B[39;00m\u001B[38;5;124m: calling handler \u001B[39m\u001B[38;5;132;01m%s\u001B[39;00m\u001B[38;5;124m'\u001B[39m, event_name, handler)\n\u001B[0;32m--> 239\u001B[0m     response \u001B[38;5;241m=\u001B[39m \u001B[43mhandler\u001B[49m\u001B[43m(\u001B[49m\u001B[38;5;241;43m*\u001B[39;49m\u001B[38;5;241;43m*\u001B[39;49m\u001B[43mkwargs\u001B[49m\u001B[43m)\u001B[49m\n\u001B[1;32m    240\u001B[0m     responses\u001B[38;5;241m.\u001B[39mappend((handler, response))\n\u001B[1;32m    241\u001B[0m     \u001B[38;5;28;01mif\u001B[39;00m stop_on_response \u001B[38;5;129;01mand\u001B[39;00m response \u001B[38;5;129;01mis\u001B[39;00m \u001B[38;5;129;01mnot\u001B[39;00m \u001B[38;5;28;01mNone\u001B[39;00m:\n",
      "File \u001B[0;32m~/Library/Caches/pypoetry/virtualenvs/auto-shorts-x_MFKcYt-py3.10/lib/python3.10/site-packages/botocore/signers.py:105\u001B[0m, in \u001B[0;36mRequestSigner.handler\u001B[0;34m(self, operation_name, request, **kwargs)\u001B[0m\n\u001B[1;32m    100\u001B[0m \u001B[38;5;28;01mdef\u001B[39;00m \u001B[38;5;21mhandler\u001B[39m(\u001B[38;5;28mself\u001B[39m, operation_name\u001B[38;5;241m=\u001B[39m\u001B[38;5;28;01mNone\u001B[39;00m, request\u001B[38;5;241m=\u001B[39m\u001B[38;5;28;01mNone\u001B[39;00m, \u001B[38;5;241m*\u001B[39m\u001B[38;5;241m*\u001B[39mkwargs):\n\u001B[1;32m    101\u001B[0m     \u001B[38;5;66;03m# This is typically hooked up to the \"request-created\" event\u001B[39;00m\n\u001B[1;32m    102\u001B[0m     \u001B[38;5;66;03m# from a client's event emitter.  When a new request is created\u001B[39;00m\n\u001B[1;32m    103\u001B[0m     \u001B[38;5;66;03m# this method is invoked to sign the request.\u001B[39;00m\n\u001B[1;32m    104\u001B[0m     \u001B[38;5;66;03m# Don't call this method directly.\u001B[39;00m\n\u001B[0;32m--> 105\u001B[0m     \u001B[38;5;28;01mreturn\u001B[39;00m \u001B[38;5;28;43mself\u001B[39;49m\u001B[38;5;241;43m.\u001B[39;49m\u001B[43msign\u001B[49m\u001B[43m(\u001B[49m\u001B[43moperation_name\u001B[49m\u001B[43m,\u001B[49m\u001B[43m \u001B[49m\u001B[43mrequest\u001B[49m\u001B[43m)\u001B[49m\n",
      "File \u001B[0;32m~/Library/Caches/pypoetry/virtualenvs/auto-shorts-x_MFKcYt-py3.10/lib/python3.10/site-packages/botocore/signers.py:189\u001B[0m, in \u001B[0;36mRequestSigner.sign\u001B[0;34m(self, operation_name, request, region_name, signing_type, expires_in, signing_name)\u001B[0m\n\u001B[1;32m    186\u001B[0m     \u001B[38;5;28;01melse\u001B[39;00m:\n\u001B[1;32m    187\u001B[0m         \u001B[38;5;28;01mraise\u001B[39;00m e\n\u001B[0;32m--> 189\u001B[0m \u001B[43mauth\u001B[49m\u001B[38;5;241;43m.\u001B[39;49m\u001B[43madd_auth\u001B[49m\u001B[43m(\u001B[49m\u001B[43mrequest\u001B[49m\u001B[43m)\u001B[49m\n",
      "File \u001B[0;32m~/Library/Caches/pypoetry/virtualenvs/auto-shorts-x_MFKcYt-py3.10/lib/python3.10/site-packages/botocore/auth.py:418\u001B[0m, in \u001B[0;36mSigV4Auth.add_auth\u001B[0;34m(self, request)\u001B[0m\n\u001B[1;32m    416\u001B[0m \u001B[38;5;28;01mdef\u001B[39;00m \u001B[38;5;21madd_auth\u001B[39m(\u001B[38;5;28mself\u001B[39m, request):\n\u001B[1;32m    417\u001B[0m     \u001B[38;5;28;01mif\u001B[39;00m \u001B[38;5;28mself\u001B[39m\u001B[38;5;241m.\u001B[39mcredentials \u001B[38;5;129;01mis\u001B[39;00m \u001B[38;5;28;01mNone\u001B[39;00m:\n\u001B[0;32m--> 418\u001B[0m         \u001B[38;5;28;01mraise\u001B[39;00m NoCredentialsError()\n\u001B[1;32m    419\u001B[0m     datetime_now \u001B[38;5;241m=\u001B[39m datetime\u001B[38;5;241m.\u001B[39mdatetime\u001B[38;5;241m.\u001B[39mutcnow()\n\u001B[1;32m    420\u001B[0m     request\u001B[38;5;241m.\u001B[39mcontext[\u001B[38;5;124m'\u001B[39m\u001B[38;5;124mtimestamp\u001B[39m\u001B[38;5;124m'\u001B[39m] \u001B[38;5;241m=\u001B[39m datetime_now\u001B[38;5;241m.\u001B[39mstrftime(SIGV4_TIMESTAMP)\n",
      "\u001B[0;31mNoCredentialsError\u001B[0m: Unable to locate credentials"
     ]
    }
   ],
   "source": [
    "npy_files = []\n",
    "for obj in bucket.objects.filter(Prefix='data/videos/'):\n",
    "    if obj.key.endswith('.npy'):\n",
    "        npy_files.append(obj.key)"
   ],
   "metadata": {
    "collapsed": false,
    "pycharm": {
     "name": "#%%\n"
    }
   }
  },
  {
   "cell_type": "markdown",
   "source": [
    "# source video ids from postgres\n",
    "SELECT id, s3_path\n",
    "FROM autoshorts.videos"
   ],
   "metadata": {
    "collapsed": false,
    "pycharm": {
     "name": "#%% md\n"
    }
   }
  },
  {
   "cell_type": "markdown",
   "source": [
    "wygeneruje sobie liste sciezek?\n",
    "dla kazdego s3_path, s3_path.split('/')[:-1]\n",
    "zobacz czy tam jest plik .npy\n",
    "tak -> nic nie rob\n",
    "nie -> appenduj do listy"
   ],
   "metadata": {
    "collapsed": false,
    "pycharm": {
     "name": "#%% md\n"
    }
   }
  }
 ],
 "metadata": {
  "kernelspec": {
   "display_name": "Python 3",
   "language": "python",
   "name": "python3"
  },
  "language_info": {
   "codemirror_mode": {
    "name": "ipython",
    "version": 2
   },
   "file_extension": ".py",
   "mimetype": "text/x-python",
   "name": "python",
   "nbconvert_exporter": "python",
   "pygments_lexer": "ipython2",
   "version": "2.7.6"
  }
 },
 "nbformat": 4,
 "nbformat_minor": 0
}