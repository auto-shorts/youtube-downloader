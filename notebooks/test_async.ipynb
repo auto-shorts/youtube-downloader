{
 "cells": [
  {
   "cell_type": "code",
   "execution_count": 17,
   "metadata": {},
   "outputs": [],
   "source": [
    "import asyncio\n",
    "from time import sleep\n",
    "from concurrent.futures import ThreadPoolExecutor"
   ]
  },
  {
   "cell_type": "code",
   "execution_count": 25,
   "metadata": {},
   "outputs": [],
   "source": [
    "from functools import wraps, partial\n",
    "\n",
    "\n",
    "def to_async(func):\n",
    "    @wraps(func)\n",
    "    async def run(*args, loop=None, executor=None, **kwargs):\n",
    "        if loop is None:\n",
    "            loop = asyncio.get_event_loop()\n",
    "        pfunc = partial(func, *args, **kwargs)\n",
    "        return await loop.run_in_executor(executor, pfunc)\n",
    "    return run"
   ]
  },
  {
   "cell_type": "code",
   "execution_count": 26,
   "metadata": {},
   "outputs": [],
   "source": [
    "_executor = ThreadPoolExecutor(1)\n",
    "\n",
    "@to_async\n",
    "def api_func():\n",
    "    sleep(3)\n",
    "    return 1\n",
    "\n",
    "async def call_api_func():\n",
    "    result = await api_func()\n",
    "    return result\n",
    "\n",
    "async def main():\n",
    "    a = await asyncio.gather(\n",
    "        call_api_func(), \n",
    "        call_api_func(),\n",
    "        call_api_func(),\n",
    "        call_api_func()\n",
    "    )\n",
    "    print(a)"
   ]
  },
  {
   "cell_type": "code",
   "execution_count": 6,
   "outputs": [
    {
     "data": {
      "text/plain": "datetime.datetime"
     },
     "execution_count": 6,
     "metadata": {},
     "output_type": "execute_result"
    }
   ],
   "source": [
    "from datetime import datetime\n",
    "date = \"2023-03-25T12:16:16Z\"\n",
    "aa = datetime.strptime(date, \"%Y-%m-%dT%H:%M:%S%z\")\n",
    "type(aa)"
   ],
   "metadata": {
    "collapsed": false
   }
  },
  {
   "cell_type": "code",
   "execution_count": null,
   "outputs": [],
   "source": [],
   "metadata": {
    "collapsed": false
   }
  },
  {
   "cell_type": "code",
   "execution_count": 27,
   "metadata": {},
   "outputs": [
    {
     "name": "stdout",
     "output_type": "stream",
     "text": [
      "[1, 1, 1, 1]\n"
     ]
    }
   ],
   "source": [
    "\n",
    "await main()"
   ]
  },
  {
   "cell_type": "code",
   "execution_count": 1,
   "metadata": {},
   "outputs": [],
   "source": [
    "base_result_keys = [\n",
    "    \"contentDetails\",\n",
    "    \"id\",\n",
    "    \"liveStreamingDetails\",\n",
    "    \"localizations\",\n",
    "    \"player\",\n",
    "    \"recordingDetails\",\n",
    "    \"snippet\",\n",
    "    \"statistics\",\n",
    "    \"status\",\n",
    "    \"topicDetails\",\n",
    "]"
   ]
  },
  {
   "cell_type": "code",
   "execution_count": 2,
   "metadata": {},
   "outputs": [
    {
     "data": {
      "text/plain": [
       "'contentDetails,id,liveStreamingDetails,localizations,player,recordingDetails,snippet,statistics,status,topicDetails'"
      ]
     },
     "execution_count": 2,
     "metadata": {},
     "output_type": "execute_result"
    }
   ],
   "source": [
    "\",\".join(base_result_keys)"
   ]
  },
  {
   "cell_type": "code",
   "execution_count": 4,
   "metadata": {},
   "outputs": [
    {
     "data": {
      "text/plain": "'We just opened our very first Beast Burger!! And I’ll be working there all day tomorrow!\\nCome visit us in the American Dream Mall %(D)s\\nNew Merch - https://shopmrbeast.com/\\n\\nSUBSCRIBE OR I TAKE YOUR DOG\\n╔═╦╗╔╦╗╔═╦═╦╦╦╦╗╔═╗\\n║╚╣║║║╚╣╚╣╔╣╔╣║╚╣═╣\\n╠╗║╚╝║║╠╗║╚╣║║║║║═╣\\n╚═╩══╩═╩═╩═╩╝╚╩═╩═╝\\n\\n----------------------------------------------------------------\\nfollow all of these or i will kick you\\n• Facebook - https://www.facebook.com/MrBeast6000/\\n• Twitter - https://twitter.com/MrBeast\\n•  Instagram - https://www.instagram.com/mrbeast\\n•  Im Hiring! - https://www.mrbeastjobs.com/\\n--------------------------------------------------------------------'"
     },
     "execution_count": 4,
     "metadata": {},
     "output_type": "execute_result"
    }
   ],
   "source": [
    "\"\"\"We just opened our very first Beast Burger!! And I’ll be working there all day tomorrow!\n",
    "Come visit us in the American Dream Mall %(D)s\n",
    "New Merch - https://shopmrbeast.com/\n",
    "\n",
    "SUBSCRIBE OR I TAKE YOUR DOG\n",
    "╔═╦╗╔╦╗╔═╦═╦╦╦╦╗╔═╗\n",
    "║╚╣║║║╚╣╚╣╔╣╔╣║╚╣═╣\n",
    "╠╗║╚╝║║╠╗║╚╣║║║║║═╣\n",
    "╚═╩══╩═╩═╩═╩╝╚╩═╩═╝\n",
    "\n",
    "----------------------------------------------------------------\n",
    "follow all of these or i will kick you\n",
    "• Facebook - https://www.facebook.com/MrBeast6000/\n",
    "• Twitter - https://twitter.com/MrBeast\n",
    "•  Instagram - https://www.instagram.com/mrbeast\n",
    "•  Im Hiring! - https://www.mrbeastjobs.com/\n",
    "--------------------------------------------------------------------\"\"\".replace(\"%\", \"\")"
   ]
  },
  {
   "cell_type": "code",
   "execution_count": null,
   "outputs": [],
   "source": [],
   "metadata": {
    "collapsed": false
   }
  }
 ],
 "metadata": {
  "kernelspec": {
   "display_name": "Python 3.10.1 ('auto-shorts-5Ilvf3v--py3.10')",
   "language": "python",
   "name": "python3"
  },
  "language_info": {
   "codemirror_mode": {
    "name": "ipython",
    "version": 3
   },
   "file_extension": ".py",
   "mimetype": "text/x-python",
   "name": "python",
   "nbconvert_exporter": "python",
   "pygments_lexer": "ipython3",
   "version": "3.10.1"
  },
  "orig_nbformat": 4,
  "vscode": {
   "interpreter": {
    "hash": "7752bb693db11437c7bebe46327e5369068e9b16b1ee71e3389c5125972aca1f"
   }
  }
 },
 "nbformat": 4,
 "nbformat_minor": 2
}
