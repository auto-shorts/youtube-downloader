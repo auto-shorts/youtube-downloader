{
 "cells": [
  {
   "cell_type": "code",
   "execution_count": 3,
   "outputs": [],
   "source": [
    "import asyncio\n",
    "from typing import Awaitable, Any\n",
    "from time import sleep"
   ],
   "metadata": {
    "collapsed": false,
    "ExecuteTime": {
     "end_time": "2023-06-27T11:30:13.804415Z",
     "start_time": "2023-06-27T11:30:13.801711Z"
    }
   }
  },
  {
   "cell_type": "code",
   "execution_count": 6,
   "metadata": {
    "collapsed": true,
    "ExecuteTime": {
     "end_time": "2023-06-27T11:30:54.901014Z",
     "start_time": "2023-06-27T11:30:54.895633Z"
    }
   },
   "outputs": [],
   "source": [
    "async def run_parallel(*functions: Awaitable[Any]) -> None:\n",
    "    await asyncio.gather(*functions)\n",
    "\n",
    "def test_1():\n",
    "    sleep(5)\n",
    "    print(\"test_1\")"
   ]
  },
  {
   "cell_type": "code",
   "execution_count": 7,
   "outputs": [
    {
     "name": "stdout",
     "output_type": "stream",
     "text": [
      "test_1\n",
      "test_1\n",
      "test_1\n"
     ]
    },
    {
     "data": {
      "text/plain": "<coroutine object run_parallel at 0x107762ce0>"
     },
     "execution_count": 7,
     "metadata": {},
     "output_type": "execute_result"
    }
   ],
   "source": [
    "run_parallel(test_1(), test_1(), test_1())"
   ],
   "metadata": {
    "collapsed": false,
    "ExecuteTime": {
     "end_time": "2023-06-27T11:31:10.673304Z",
     "start_time": "2023-06-27T11:30:55.617220Z"
    }
   }
  },
  {
   "cell_type": "code",
   "execution_count": 8,
   "outputs": [
    {
     "name": "stdout",
     "output_type": "stream",
     "text": [
      "test_1test_1\n",
      "\n",
      "test_1\n"
     ]
    },
    {
     "data": {
      "text/plain": "[None, None, None]"
     },
     "execution_count": 8,
     "metadata": {},
     "output_type": "execute_result"
    }
   ],
   "source": [
    "await asyncio.gather(\n",
    "        asyncio.to_thread(\n",
    "            test_1\n",
    "        ),\n",
    "        asyncio.to_thread(\n",
    "            test_1\n",
    "        ),\n",
    "        asyncio.to_thread(\n",
    "                test_1\n",
    "            ),\n",
    ")"
   ],
   "metadata": {
    "collapsed": false,
    "ExecuteTime": {
     "end_time": "2023-06-27T11:34:53.146666Z",
     "start_time": "2023-06-27T11:34:48.121249Z"
    }
   }
  },
  {
   "cell_type": "code",
   "execution_count": null,
   "outputs": [],
   "source": [],
   "metadata": {
    "collapsed": false
   }
  }
 ],
 "metadata": {
  "kernelspec": {
   "display_name": "Python 3",
   "language": "python",
   "name": "python3"
  },
  "language_info": {
   "codemirror_mode": {
    "name": "ipython",
    "version": 2
   },
   "file_extension": ".py",
   "mimetype": "text/x-python",
   "name": "python",
   "nbconvert_exporter": "python",
   "pygments_lexer": "ipython2",
   "version": "2.7.6"
  }
 },
 "nbformat": 4,
 "nbformat_minor": 0
}
