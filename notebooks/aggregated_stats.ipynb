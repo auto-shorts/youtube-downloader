{
 "cells": [
  {
   "cell_type": "code",
   "execution_count": 2,
   "metadata": {
    "collapsed": true,
    "pycharm": {
     "name": "#%%\n"
    },
    "ExecuteTime": {
     "end_time": "2024-09-23T20:17:54.820092Z",
     "start_time": "2024-09-23T20:17:53.932023Z"
    }
   },
   "outputs": [],
   "source": [
    "import boto3\n",
    "import json\n",
    "import pandas as pd\n",
    "s3 = boto3.resource(\"s3\")\n",
    "bucket = s3.Bucket('auto-shorts')"
   ]
  },
  {
   "cell_type": "code",
   "outputs": [
    {
     "data": {
      "text/plain": "True"
     },
     "execution_count": 1,
     "metadata": {},
     "output_type": "execute_result"
    }
   ],
   "source": [
    "from dotenv import load_dotenv\n",
    "load_dotenv('../../extractors/.env')"
   ],
   "metadata": {
    "collapsed": false,
    "ExecuteTime": {
     "end_time": "2024-09-23T20:17:53.930504Z",
     "start_time": "2024-09-23T20:17:53.914481Z"
    }
   },
   "execution_count": 1
  },
  {
   "cell_type": "code",
   "execution_count": 3,
   "outputs": [],
   "source": [
    "all_data = {}\n",
    "for obj in bucket.objects.all():\n",
    "    target = \"tmp_data.json\"\n",
    "    if 'video_data.json' in obj.key:\n",
    "        bucket.download_file(obj.key, target)\n",
    "        with open('tmp_data.json', 'r') as f:\n",
    "            vid_data = json.load(f)\n",
    "            vid_path = '/'.join(obj.key.split('/')[:-1])\n",
    "            vid_len = vid_data['most_watched_moments'][-1]['time_end_ms']/1000\n",
    "            all_data[vid_path] = vid_len"
   ],
   "metadata": {
    "collapsed": false,
    "pycharm": {
     "name": "#%%\n"
    },
    "ExecuteTime": {
     "end_time": "2024-09-23T20:18:32.796386Z",
     "start_time": "2024-09-23T20:17:59.241971Z"
    }
   }
  },
  {
   "cell_type": "code",
   "execution_count": 4,
   "outputs": [],
   "source": [
    "df = pd.DataFrame(list(all_data.items()), columns=['s3_path', 'vid_len'])"
   ],
   "metadata": {
    "collapsed": false,
    "pycharm": {
     "name": "#%%\n"
    },
    "ExecuteTime": {
     "end_time": "2024-09-23T20:18:32.801448Z",
     "start_time": "2024-09-23T20:18:32.797391Z"
    }
   }
  },
  {
   "cell_type": "code",
   "outputs": [
    {
     "data": {
      "text/plain": "                                               s3_path  vid_len\n0    data/videos/17/UC1VU-FHvhbom5tPSCEB-e4g/-reCVT...    507.0\n1    data/videos/17/UC1VU-FHvhbom5tPSCEB-e4g/2kMdsB...    522.0\n2    data/videos/17/UC1VU-FHvhbom5tPSCEB-e4g/PBokg3...    571.0\n3    data/videos/17/UC1VU-FHvhbom5tPSCEB-e4g/eIMuFo...    797.0\n4    data/videos/17/UC1VU-FHvhbom5tPSCEB-e4g/sLJyFE...    440.0\n..                                                 ...      ...\n181  data/videos/24/UCxOzbkk0bdVl6-tH1Fcajfg/nLeUvD...   1206.0\n182  data/videos/24/UCxOzbkk0bdVl6-tH1Fcajfg/wdAva6...   1163.0\n183  data/videos/24/UCxOzbkk0bdVl6-tH1Fcajfg/xYQ28e...   1559.0\n184  data/videos/24/UCzskh68cVFMgzvqWrTGQ2uw/1UxPXd...    664.0\n185  data/videos/26/UCqyZMlq1g_IPez-weFh6-xA/BqDWZ_...    529.0\n\n[186 rows x 2 columns]",
      "text/html": "<div>\n<style scoped>\n    .dataframe tbody tr th:only-of-type {\n        vertical-align: middle;\n    }\n\n    .dataframe tbody tr th {\n        vertical-align: top;\n    }\n\n    .dataframe thead th {\n        text-align: right;\n    }\n</style>\n<table border=\"1\" class=\"dataframe\">\n  <thead>\n    <tr style=\"text-align: right;\">\n      <th></th>\n      <th>s3_path</th>\n      <th>vid_len</th>\n    </tr>\n  </thead>\n  <tbody>\n    <tr>\n      <th>0</th>\n      <td>data/videos/17/UC1VU-FHvhbom5tPSCEB-e4g/-reCVT...</td>\n      <td>507.0</td>\n    </tr>\n    <tr>\n      <th>1</th>\n      <td>data/videos/17/UC1VU-FHvhbom5tPSCEB-e4g/2kMdsB...</td>\n      <td>522.0</td>\n    </tr>\n    <tr>\n      <th>2</th>\n      <td>data/videos/17/UC1VU-FHvhbom5tPSCEB-e4g/PBokg3...</td>\n      <td>571.0</td>\n    </tr>\n    <tr>\n      <th>3</th>\n      <td>data/videos/17/UC1VU-FHvhbom5tPSCEB-e4g/eIMuFo...</td>\n      <td>797.0</td>\n    </tr>\n    <tr>\n      <th>4</th>\n      <td>data/videos/17/UC1VU-FHvhbom5tPSCEB-e4g/sLJyFE...</td>\n      <td>440.0</td>\n    </tr>\n    <tr>\n      <th>...</th>\n      <td>...</td>\n      <td>...</td>\n    </tr>\n    <tr>\n      <th>181</th>\n      <td>data/videos/24/UCxOzbkk0bdVl6-tH1Fcajfg/nLeUvD...</td>\n      <td>1206.0</td>\n    </tr>\n    <tr>\n      <th>182</th>\n      <td>data/videos/24/UCxOzbkk0bdVl6-tH1Fcajfg/wdAva6...</td>\n      <td>1163.0</td>\n    </tr>\n    <tr>\n      <th>183</th>\n      <td>data/videos/24/UCxOzbkk0bdVl6-tH1Fcajfg/xYQ28e...</td>\n      <td>1559.0</td>\n    </tr>\n    <tr>\n      <th>184</th>\n      <td>data/videos/24/UCzskh68cVFMgzvqWrTGQ2uw/1UxPXd...</td>\n      <td>664.0</td>\n    </tr>\n    <tr>\n      <th>185</th>\n      <td>data/videos/26/UCqyZMlq1g_IPez-weFh6-xA/BqDWZ_...</td>\n      <td>529.0</td>\n    </tr>\n  </tbody>\n</table>\n<p>186 rows × 2 columns</p>\n</div>"
     },
     "execution_count": 5,
     "metadata": {},
     "output_type": "execute_result"
    }
   ],
   "source": [
    "df"
   ],
   "metadata": {
    "collapsed": false,
    "ExecuteTime": {
     "end_time": "2024-09-23T20:18:39.509698Z",
     "start_time": "2024-09-23T20:18:39.498380Z"
    }
   },
   "execution_count": 5
  },
  {
   "cell_type": "code",
   "outputs": [],
   "source": [
    "import sys\n",
    "sys.path.append('../auto_shorts/upload/db/')\n",
    "from utils import postgres_engine"
   ],
   "metadata": {
    "collapsed": false,
    "ExecuteTime": {
     "end_time": "2024-09-23T20:21:53.132963Z",
     "start_time": "2024-09-23T20:21:52.897331Z"
    }
   },
   "execution_count": 6
  },
  {
   "cell_type": "code",
   "execution_count": 7,
   "outputs": [],
   "source": [
    "from sqlalchemy import text\n"
   ],
   "metadata": {
    "collapsed": false,
    "pycharm": {
     "name": "#%%\n"
    },
    "ExecuteTime": {
     "end_time": "2024-09-23T20:22:12.485298Z",
     "start_time": "2024-09-23T20:22:12.481045Z"
    }
   }
  },
  {
   "cell_type": "code",
   "execution_count": 8,
   "outputs": [],
   "source": [
    "with postgres_engine.connect() as conn:\n",
    "    df_vids = pd.read_sql_query(text('SELECT * FROM autoshorts.videos'), con=conn)[['s3_path', 'category_id']]"
   ],
   "metadata": {
    "collapsed": false,
    "pycharm": {
     "name": "#%%\n"
    },
    "ExecuteTime": {
     "end_time": "2024-09-23T20:22:14.051769Z",
     "start_time": "2024-09-23T20:22:13.273119Z"
    }
   }
  },
  {
   "cell_type": "code",
   "execution_count": 9,
   "outputs": [],
   "source": [
    "final_df = df.merge(df_vids, on='s3_path')"
   ],
   "metadata": {
    "collapsed": false,
    "pycharm": {
     "name": "#%%\n"
    },
    "ExecuteTime": {
     "end_time": "2024-09-23T20:22:17.072267Z",
     "start_time": "2024-09-23T20:22:17.066125Z"
    }
   }
  },
  {
   "cell_type": "code",
   "execution_count": 12,
   "outputs": [
    {
     "data": {
      "text/plain": "category_id           17          20           22          23           24  \\\nmin           371.000000  645.000000   282.000000   620.00000   219.000000   \nmax          1173.000000  978.000000  1013.000000  1336.00000  2082.000000   \nstd           162.301041  235.466558   271.106848   268.59818   418.564622   \nmean          597.821782  811.500000   672.384615   875.87500  1090.412698   \ncount         101.000000    2.000000    13.000000     8.00000    63.000000   \nmedian        530.000000  811.500000   790.000000   822.50000  1047.000000   \n\ncategory_id     26  \nmin          529.0  \nmax          529.0  \nstd            NaN  \nmean         529.0  \ncount          1.0  \nmedian       529.0  ",
      "text/html": "<div>\n<style scoped>\n    .dataframe tbody tr th:only-of-type {\n        vertical-align: middle;\n    }\n\n    .dataframe tbody tr th {\n        vertical-align: top;\n    }\n\n    .dataframe thead th {\n        text-align: right;\n    }\n</style>\n<table border=\"1\" class=\"dataframe\">\n  <thead>\n    <tr style=\"text-align: right;\">\n      <th>category_id</th>\n      <th>17</th>\n      <th>20</th>\n      <th>22</th>\n      <th>23</th>\n      <th>24</th>\n      <th>26</th>\n    </tr>\n  </thead>\n  <tbody>\n    <tr>\n      <th>min</th>\n      <td>371.000000</td>\n      <td>645.000000</td>\n      <td>282.000000</td>\n      <td>620.00000</td>\n      <td>219.000000</td>\n      <td>529.0</td>\n    </tr>\n    <tr>\n      <th>max</th>\n      <td>1173.000000</td>\n      <td>978.000000</td>\n      <td>1013.000000</td>\n      <td>1336.00000</td>\n      <td>2082.000000</td>\n      <td>529.0</td>\n    </tr>\n    <tr>\n      <th>std</th>\n      <td>162.301041</td>\n      <td>235.466558</td>\n      <td>271.106848</td>\n      <td>268.59818</td>\n      <td>418.564622</td>\n      <td>NaN</td>\n    </tr>\n    <tr>\n      <th>mean</th>\n      <td>597.821782</td>\n      <td>811.500000</td>\n      <td>672.384615</td>\n      <td>875.87500</td>\n      <td>1090.412698</td>\n      <td>529.0</td>\n    </tr>\n    <tr>\n      <th>count</th>\n      <td>101.000000</td>\n      <td>2.000000</td>\n      <td>13.000000</td>\n      <td>8.00000</td>\n      <td>63.000000</td>\n      <td>1.0</td>\n    </tr>\n    <tr>\n      <th>median</th>\n      <td>530.000000</td>\n      <td>811.500000</td>\n      <td>790.000000</td>\n      <td>822.50000</td>\n      <td>1047.000000</td>\n      <td>529.0</td>\n    </tr>\n  </tbody>\n</table>\n</div>"
     },
     "execution_count": 12,
     "metadata": {},
     "output_type": "execute_result"
    }
   ],
   "source": [
    "final_df.groupby('category_id')['vid_len'].agg(['min', 'max', 'std', 'mean', 'count', 'median']).T"
   ],
   "metadata": {
    "collapsed": false,
    "pycharm": {
     "name": "#%%\n"
    },
    "ExecuteTime": {
     "end_time": "2024-09-23T20:22:41.051680Z",
     "start_time": "2024-09-23T20:22:41.040804Z"
    }
   }
  }
 ],
 "metadata": {
  "kernelspec": {
   "display_name": "Python 3",
   "language": "python",
   "name": "python3"
  },
  "language_info": {
   "codemirror_mode": {
    "name": "ipython",
    "version": 2
   },
   "file_extension": ".py",
   "mimetype": "text/x-python",
   "name": "python",
   "nbconvert_exporter": "python",
   "pygments_lexer": "ipython2",
   "version": "2.7.6"
  }
 },
 "nbformat": 4,
 "nbformat_minor": 0
}
