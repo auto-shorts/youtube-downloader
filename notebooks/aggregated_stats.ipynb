{
 "cells": [
  {
   "cell_type": "code",
   "execution_count": 41,
   "metadata": {
    "collapsed": true,
    "pycharm": {
     "name": "#%%\n"
    }
   },
   "outputs": [],
   "source": [
    "import boto3\n",
    "import json\n",
    "import pandas as pd\n",
    "s3 = boto3.resource(\"s3\")\n",
    "bucket = s3.Bucket('auto-shorts')"
   ]
  },
  {
   "cell_type": "code",
   "execution_count": 28,
   "outputs": [],
   "source": [
    "all_data = {}\n",
    "for obj in bucket.objects.all():\n",
    "    target = \"tmp_data.json\"\n",
    "    if 'video_data.json' in obj.key:\n",
    "        bucket.download_file(obj.key, target)\n",
    "        with open('tmp_data.json', 'r') as f:\n",
    "            vid_data = json.load(f)\n",
    "            vid_path = '/'.join(obj.key.split('/')[:-1])\n",
    "            vid_len = vid_data['most_watched_moments'][-1]['time_end_ms']/1000\n",
    "            all_data[vid_path] = vid_len"
   ],
   "metadata": {
    "collapsed": false,
    "pycharm": {
     "name": "#%%\n"
    }
   }
  },
  {
   "cell_type": "code",
   "execution_count": null,
   "outputs": [],
   "source": [
    "df = pd.DataFrame(list(all_data.items()), columns=['s3_path', 'vid_len'])"
   ],
   "metadata": {
    "collapsed": false,
    "pycharm": {
     "name": "#%%\n"
    }
   }
  },
  {
   "cell_type": "code",
   "execution_count": null,
   "outputs": [],
   "source": [
    "from sqlalchemy import URL, create_engine,text\n",
    "\n",
    "postgres_engine = create_engine(\n",
    "    URL.create(\n",
    "        host=POSTGRES_HOST,\n",
    "        drivername=\"postgresql+psycopg2\",\n",
    "        username=POSTGRES_USERNAME,\n",
    "        password=POSTGRES_PASSWORD,\n",
    "        database=POSTGRES_DB,\n",
    "        port=5432,\n",
    "    ),\n",
    "    pool_pre_ping=True,\n",
    ")"
   ],
   "metadata": {
    "collapsed": false,
    "pycharm": {
     "name": "#%%\n"
    }
   }
  },
  {
   "cell_type": "code",
   "execution_count": null,
   "outputs": [],
   "source": [
    "with postgres_engine.connect() as conn:\n",
    "    df_vids = pd.read_sql_query(text('SELECT * FROM autoshorts.videos'), con=conn)[['s3_path', 'category_id']]"
   ],
   "metadata": {
    "collapsed": false,
    "pycharm": {
     "name": "#%%\n"
    }
   }
  },
  {
   "cell_type": "code",
   "execution_count": null,
   "outputs": [],
   "source": [
    "final_df = df.merge(df_vids, on='s3_path')"
   ],
   "metadata": {
    "collapsed": false,
    "pycharm": {
     "name": "#%%\n"
    }
   }
  },
  {
   "cell_type": "code",
   "execution_count": null,
   "outputs": [],
   "source": [
    "final_df.groupby('category_id')['vid_len'].agg(['min', 'max', 'std', 'mean', 'count', 'median']).T"
   ],
   "metadata": {
    "collapsed": false,
    "pycharm": {
     "name": "#%%\n"
    }
   }
  }
 ],
 "metadata": {
  "kernelspec": {
   "display_name": "Python 3",
   "language": "python",
   "name": "python3"
  },
  "language_info": {
   "codemirror_mode": {
    "name": "ipython",
    "version": 2
   },
   "file_extension": ".py",
   "mimetype": "text/x-python",
   "name": "python",
   "nbconvert_exporter": "python",
   "pygments_lexer": "ipython2",
   "version": "2.7.6"
  }
 },
 "nbformat": 4,
 "nbformat_minor": 0
}