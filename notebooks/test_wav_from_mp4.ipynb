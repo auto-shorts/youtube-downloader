{
 "cells": [
  {
   "cell_type": "code",
   "execution_count": 2,
   "metadata": {
    "collapsed": true
   },
   "outputs": [],
   "source": [
    "import os\n",
    "from pathlib import Path\n",
    "# os.environ[\"IMAGEIO_FFMPEG_EXE\"] = \"/usr/bin/ffmpeg\"\n",
    "\n",
    "from moviepy.editor import VideoFileClip\n"
   ]
  },
  {
   "cell_type": "code",
   "execution_count": 7,
   "outputs": [],
   "source": [
    "video_path = Path.cwd().parents[0] / \"data\" /\"zmCStk_S4EU\"/ \"video.mp4\"\n",
    "audio_path = video_path.parents[0] / \"audio.wav\""
   ],
   "metadata": {
    "collapsed": false
   }
  },
  {
   "cell_type": "code",
   "execution_count": 4,
   "outputs": [
    {
     "data": {
      "text/plain": "'/Users/jakubwujec/projects/auto-shorts/data/zmCStk_S4EU/video.mp4'"
     },
     "execution_count": 4,
     "metadata": {},
     "output_type": "execute_result"
    }
   ],
   "source": [
    "str(video_path)"
   ],
   "metadata": {
    "collapsed": false
   }
  },
  {
   "cell_type": "code",
   "execution_count": 6,
   "outputs": [],
   "source": [
    "clip = VideoFileClip(str(video_path))"
   ],
   "metadata": {
    "collapsed": false
   }
  },
  {
   "cell_type": "code",
   "execution_count": 8,
   "outputs": [
    {
     "name": "stdout",
     "output_type": "stream",
     "text": [
      "MoviePy - Writing audio in /Users/jakubwujec/projects/auto-shorts/data/zmCStk_S4EU/audio.wav\n"
     ]
    },
    {
     "name": "stderr",
     "output_type": "stream",
     "text": [
      "                                                                        "
     ]
    },
    {
     "name": "stdout",
     "output_type": "stream",
     "text": [
      "MoviePy - Done.\n"
     ]
    },
    {
     "name": "stderr",
     "output_type": "stream",
     "text": [
      "\r"
     ]
    }
   ],
   "source": [
    "clip.audio.write_audiofile(str(audio_path))"
   ],
   "metadata": {
    "collapsed": false
   }
  },
  {
   "cell_type": "code",
   "execution_count": 9,
   "outputs": [],
   "source": [
    "import speech_recognition as sr\n"
   ],
   "metadata": {
    "collapsed": false
   }
  },
  {
   "cell_type": "code",
   "execution_count": 11,
   "outputs": [],
   "source": [
    "r = sr.Recognizer()\n",
    "with sr.AudioFile(str(audio_path)) as source:\n",
    "    audio = r.record(source)"
   ],
   "metadata": {
    "collapsed": false
   }
  },
  {
   "cell_type": "code",
   "execution_count": 12,
   "outputs": [
    {
     "data": {
      "text/plain": "\"going to bully boy got the benefit of all did you notice the month of physical edema gospel guy not with the death of nine a good novel the rosenbluth eat they don't play the effect spoke gyn it is in the fetal down with his victim is known about it then ask pull out not be done on fire to its team and ask was fit to an end to that modern it is one is that he asked us till they hear the bottom and yep i hate vietnam the gulf eddie me now until i'm ninety one of the stone began is that some guy resident of him on that the band you know a glove of them until they have another look at them back without height of the v. f. but it had like illegal mr zanuck the deaths among some donna's going to live in an gonna go revealed more doubled the guard in the autumn of a human body of life that i yeah yeah yeah yeah eighty eight doesn't need south sonya much as they fill the post them yet again that i yet have lots of them died of a lot of pulse of budget with enough and both book on it the vegas in the tape was of the blood on that machine funded by the knowledge of that an overload of the aisle who've of bomb may go therapist about a moment of this undeniable that with the jungle the visual comedy is about as the deliberated on a indicted on by the befuddled and alicia witt the vandals have found the ability not filled to vote on how to set him on the bar the blood of of of when the benefit of all feasibility of death isn't that did it doesn't take them by the popiel faded with the bombardment of finance and that is of age in yep a little tough to do was up there with the fed is both the zillion was filled with bodies identical freedom of the whole issue till you've got that you broke my leg on the field and the the the the foil the bridge thousand miles of up by his union on mom said you were intimate hey i've got in office debate is that he thought that i go by gaze upon and some of the lives of those go to prison and a lot of the toilets on the eyes of the fifth day of what i've done have planted and mobbed up after i've met in full combat with our guests on but that's the act like an adam is that they own death they need only by the bosnian sonya burden of the moment ago des moines to discs and laser fell on the ship off the florida next on the space about him about that somebody is more fun than could have the field use the money not going to an assemblage of them say yes that is of the bomb on added one of them got left is the one thing is that of all the front door to juggle thief is not ivana octavia uganda the athletes teachers and said to them either to give them the players is a step with the land titles was using the monocle feeling me mind is we will feed those distant and the deductible the smoke with them and some guys go few by the bees cook sadat ed a hunted some dynasty is that that they be like on a negative whose book got in they found that it must fully jane balled up above the wound was provided only of p. and if and how the big ideas that the nation jay leno and both of them ultimately is given will go with a woman in among the business by the new g. m. now to model the moment how does a bit dull days of course in the middle of the befuddled by half yet given enough and we have this love god as that up on it all the average itself on how this moment about it they founded on political beat about the mafia made 'em on the new shake it up off man of vision of amanda political fled to shoot on the guy who put the debt is that they knew they need to use this month and indulged by the throat man spoken as not a band of prisoner was the isaacson that you've got to get the want of a good i've often thought of them each of us in addition invented by the cheek area without breaking the government of the the buyer is that the gun in many of those by agonies of years that i've had a move to somebody got there by the limo whatever the mayfield an ugly as the honorable my guest at the bubbles on on the computer goal feast with the back of the up though with him lately is that they carry the tab is bios on the map of the kid i thought that they found donna's most effective hang on floyd had that many enemy of thoughtful guy don't block and a beloved identifiable matilda the zeta event over the me yet he's dismisses the minute the spoken with bubbles billboard without faith enough in the gulf made locally abou of some of us on the florida keys deafening the monitors in the board is the ability to live and then with a double this year but in the middle of the winds of up to the belief that half of that awfulness of these gets above the dawn of both on when the public image the image that spoken immovable this noble scythian to go the famine guilty before nine young though that jaco little less than thirty seven of them a given them out than the intimate adamant about the benefit of gravity of the feet below with the votes yet they've god to five lot more by the gentle have been made that often the canonical feeble much of it was god i'm a little balls are epitomizes the effigy on bonded to to more fold one thought about canada because although ms about mexico is the guy go takes on stop the head of the authentic off and a bit one of them have a high good thing if you don't have that what the glove leave the camp of nickel out of fuel to do with you about gulf em of civility vegetable oil bugs bunny at level above that philip though if ever that will grow things that go on the big good-bye in the end of the human about his estate on these events at the end about all the available to kill the book that you all the knowledge that after the basement of the ivy of that is gone and voters not proud of the road contentment for us to all the budget by the book go often spoke on you would do villains and others with the us in the morning come back jeff adore lived all i've got one of the i've got a notion that needs to this video mayonnaise and donna's of the earth is more indicative of the wal lat and ability to benefit with the middle and i'd had a thing and one of hinted that demon or some of the gulf of the demagogue old thing on it's about committed some of his the health of a to thank hope that in india but that bloody shoe bomba of them a bomb of the factors which always gonna companies the once in a bucket jimmy's jam and these bugs tilted up boldly about got to hear what the court is once you and i then i'd go god that fella just go yet policy of them is small pool deck of aha that he wanted by the evian is that they are left back when i look at them the keys to watch the odd couple and that one was a lone eagle fleet of little feet out of little feet and of all of that out that issue out of one of bill and about nothing but this all aglow feet rock nine an additional money to do that is just that if an eagle flight of the lead on the middle feet of that i had and when they got he felt that i feel that the limoges dive he'll be any method of late and i think that that debacle both of them up to some of the hub of the rich you come out of that footage that you intend to shigeo the fifth to robert schneider five of the fun of them all the gates of of of the media of the month of a fellow named after that i'm a few social darwinism and that we put up in the museum of both baker's book gonna go couldn't even if the animal pentagon of another mother with a troubled young above the at the state of the money cope with an overwhelming on yes that they give us a bit odd finessed that isn't the dios though on the day another been added to his novel the day after that the boom of the second to none of the cold the name of them is that if the good it'll mean was amiss than that debate look and say that though the mayors of of them spoke on the damage inflicted fidel goofy on the back way accomplish that must be about you know by love them all at once the black widow who knew and am i on inhibition of debate on subdivided it gets into one authentic sound does it not for the toughest of the death of life is small could've gutted the bug eyed liberals going into wispy kim il sung i'm gonna go for the love for the visa but it hit about him adios pentagon another job than the psychic or in an ilya and yet another says going to have things need to go into a new band and the movie of that involves both annabella bonneville on on to look to the most fitted with a promotion not at had with data is to avoid the school the buyers of them are less than an argument that in there that the risk that the mauldin is the beginning of accused of all that fed by people to know that is the target of off and board the list of those born accompanies the get off the dutchman a total snapped advice but that doesn't make it you might help of going into the local the middle class i've been listening it above what i've said joseph antonini confession on the edge of my head up out of the lead me mum on the thigh as some of the best of my middle of saigon bogdan south of pumpkin muffins in that field i've got of ye deny it and i go may know to the fiscal bigots with motivation the doc want to guide the buzz of them in a tall moses parted the gushing more news but it was a brilliant but just the most common incident on the goeas though the global it if you don't get mad come then y'all who doesn't he did all the other girl got to them with all the thumb goddesses of the foibles and that he had a model begin thousands on donna's washy on the winning on film of the mighty someone said the death of event a two week mission itself thank they sound so on and needs that go into the vancouver goofy on the bomb bowl and that of others on autobots month off the muslim atonement nehemiah because on the region in philly is on the method of the vote he got up a movie buff glenn a dummy is seldom been somebody who could have a lot of fun i've got to have all the high in india but if you have today is the end for the theme of the night she knew is that she becomes an thad you make of the current go free than any other one exhibit by the by the bees come to us both know about him and the leak in the first said about the gulf said they had ideas that given the fake alenia bomb but how does that to the act on it if you have yet to knock it a heart that that doyen of coded off the top down on the double cannot d'angelo i yet the mac or thou within the provided levinsky millionth of a double dog and argent saw them at them i'm going to fill up on that of reso the fit nine gotten out of the philadelphia boy and they've lifted last ticketmaster's did it operated with it and it but though the long and it won't live and in a humbug with the news of the us but mike ditka i'm only muslim and omaha know these images images to go but if the summit opened up a complete and thorough paula of al d'amato fundamental might've about the middle of the dead eleven opposed to the others like them one seven of them and often half some time at the top of the emphasis small got in the identity movement is though what about the the amount of money come from i know nine of them of a pinch of going to go the bomb on the dollar's notable book which evidence that would make stubbornness audibly a car for the benefit of the law often get that done on the money to beans ago didn't know what thousand five hundred to nfl got bad woman enough yet to tiffany to die within the money goes to the basulto put in the field divination that in the media money fair debate above that when in fact even some of the group that bomb aboard the ship the bomb but on the day she settled by the mota also have is a photograph was at how that you mortimer other lives is not always thought that noble validity not heed that they didn't find him as nafta told that of an agatha wilkie that when you've had a moment of age to have a family setting up a woman and a woman enough yet not dotted with and doubled nico had one in the second i give them advice column b. not able to one in nine go people did in the bath thank you to be that big of bone but not that i thought my men of an egg or it going to the woman i don't get the gun on hill nine because that's the noted that is that an buddies judge bennett vietnam an echo of not goebbels come back so fuck the moment to millions of victims to the common good and as i come with a vision of the big question if if if he accompanied him to pull it up the f. you did in the stuff nothing to live with you just come and get the money route at the u. have a positive effect at those about that you and is give the government abandoned noncompetitive of the ten thousand over the mobile the bottom of the problem with issues of what the benefit of vitamin bonafide of how the fifth of the one above the golf they don't yet know adam's a job as the author goyette the momentum of double date on a book on this bus going in your stomach of ethos that thank god i'm l. yours will they opened in about an oven in effect found some of them just not sure suggested that vilnius to manzano would actually the mind to convey to the must've figured at things and emotional by benoit honest up the and and i got to die of and they estimate enough that have a tuft of a book that if i've got it down but it did look all of the boat off the bottom of the debate tonight is the models of what the level of each may know just go to plan which is so good of a jet is what i've found out as that any kind of them made him of taking me out in the month of cousin and if the soviets put him out on one side not intermodal that the motion the pacific on both india and get him in jail on united over the net again mournful de gaulle was a lid on avon kgb outfit was i'd left him for he may have to weed out all the building is needed on the mafia's couple in him at the need is a movie based on our phones deeds as stieglitz and you have faith and i'd like an adult damage to a methodical death on a small blood of the month of leominster mufflers promotion of them will be out of that both of us as i had evidence though was that have eight that i've learned he didn't he does and it made them with festival got a thief of as a joke that he was broken and so pleased to have to have it in fact on the offend again god it's going to call him on evil spawn on that benefit of going to bomb that they think that they think that it into evidence nothing goes on the gunmen yeltsin had already many of you cannot be killed or you don't bomb red white and pioneer who occupy an image of us or go up on they of mythical things book got your gymnastic of enough to fill up with evident for talks with the mets are the robin i did in bunches at the gift of to cover the command of an answer that but the lives of the muslims in an interview many things that typically obvious to the home team of the move on the cob authenticity and the police he told a feedback that was that have abolished the health at five hundred of connivance neither of them is built on my she's got by oak on calling it does get the job he had that got the neon i'm bob how mafia's to maybe all which you would take us behind the forbidden thirty feet to most humble biondi may know not goebbels cuff of helped if macedonia bobo that the goat or number of noble give it a boy then the victim thune if that can make a video on to the to has to come at the moment on immigrant again he didn't understand incomes of up to the fist of those life on a publicity on friday and called for cornfields to put into some of the money was on the middle of each death on the other thing is to vomit on a new office of the five out of sight of the wishes of the eagle he's also public memorial fact of what can i move into the methanol democratic ticket didn't id and yet this minimal come up lighted was of some vogel who both of our motivation to smoke a unit of the bomb that has a poll that all the other cheek about about the possibility to because by the mob smoke voided the fight is about nine days of the government says a misstatement of of him and he met with him at the moment he's mentioned subject of them even though he pulled himself of the above with a record for the moment when i'm fifty days not the victim of a small bodies of the heat mcclenathan which in the state of the was untouched by many abandoned them about half of out on anything no thoughts i say yes i did not come off a bit of colony ago that the coca they feed on ecstatic yet and i'm building up the hill that you wanted going day in that any of the paper escalated daiichi okada the bomb site them on a brief the negative on that this duties that got the beatles beat up a tough odds are that fungible mind going to bully boy and the benefit of all did you notice in the lives of scoop vietnam thought that the idea of what activities jet mountainsides on the bed and that once and that is to while we're on line use them both up out of him the government itself can only be to read the opening of the temple of tham and get fat fat boy found that about a bomba thought that all yo yo yo yo to the moment to publish the middle of fifty have to have that up ha ha ha ha it the going got tough to the nearest about sick at how gonna buy yet not through an honest all be mobbed coble stop but non abashed going um hum upon the moment you have of modest opened and that the mental who number of the play is the key of baghdad principle to the rhythm of it to you is to be more on the on the field is the most open to doubt about to go back and help out if figure out the earliest in those portion of the mom if they don't get that had anonymity of the moment at the summit of the pain of the republican on the dot off benefits to pay something of a good idea of the abandoned malik be denied him up they have gone back and i wasn't ornamented to benefit them for the left i'm bob get with asia outside and the burden of some of your shit to come to us how the speed and secondly it's other brothers fundamental titillate your all-star make fun of the one hand the then man of the outcome of that jacob as when that thing on god and i know that what is that in honestly and then not go both got up and says the galvan are gonna save lives and health committee on a slip out of the emperor's elston thought it was what i do not yet gotten so to me to deny them until those of us the belief of that that was not done was unable to comment on that again and i'm a gentle flip side to fiddle and so does the golan she's up on some level to abandon made avoid having gone if infinite sofia golf fill it up i think it ought to go through tough as the bathroom log to and i did a good grade the audience gore snapped a minimum of melbourne identity he only had to some of these are yet mike often tiny can activated and i'm a bit about that the abusive to go on somebody is that we need to be my appearance of an estimate of models about the pie given a pickpocket the victim cook said look this with no relation of that i again is that thing about the middle of it on they got instead of watching check would you know not the ultimate at u. of the monument of out of a foot of the moment of financial muscle on and facilities all that if he estimates of how this benefit bill then doctor that optimism is that other than it on the thirtieth of my estimate of the novel they could have been the builds on anybody thousands of its yet to montevideo depend upon been of the bosman told him if he did have an out 'cause you don't have had that leads to obey the law is going above it i'd have to let us play dead fetuses of a good and the white woman of the field they get a budget which are sympathetic high all the hits that hah tough not i had to get a good amount about all cannot fear that if oh i couldn't hold on vietnam and what he's got that he'd been forgotten thought dollars gift catalog and tanya made a new book called the culture cable car's got a long walk i was just move of noble but the notion of what the gist of it fails that the federal put the d. and is often all his books of coming out they should have minimal put off of it that i have often might benefit what has to my notes you silicone fix on that that buffet told the heart the race now that is going and if god somebody if the north pole down and i thought of that altogether yes good idea individual how does to most of the ones that that little snippet of the three of them it is that a bedside for good on the wall and if they go they fall all you knew that gives me an oddly enough and again old homeless you've got four we had a gym of fulfilled or et a pamphlet off and i haven't had all of them about god if you could expose any inventory and now it health that up a good guy gore on the biggest goal enable me to do what does that fire that on the ninth all told about the old image fall by the ninth witness to the most yep elvis to look at it and in almond ideas than donna's gave the deputy medical examiner is hush hush puppy and it doesn't get that much but go on then the defendant that he and i yevgeny to produce enough by pentagon came out of the fight's going to be an both by it's on the identical as at the double buddy and regarded the body the gazette them with the double call though so some of these agreed to move take a few davy jones and the ritchie book called so gigi be good to go to the union occupant of the death of you got it all hit had is that the arrow to the idea of an idea of a filled the festival of death that a political tonight at eleven i think you've got a tough line if the reactivated about anybody and i said scoop five he thought the hill that the d. n. a physical good thought is that a double can affect the bombs to his identity to this good image of them that they're the ones on thin doesn't take any of soviet of the image of a large the angel didn't identify what gets i've got one is about to manage it to us that would of course ago result of ivana there's all kind of bend it have to ohio at high don't want to become a good eyes off him up and you let this do that how it going to outlaw i bought a condo the ads and i ain't it billboards that negative into a dog in a bad enough to feed going to an adult idea that thought bill but also of booked on a communal gilded to look for clues to the new clothes\""
     },
     "execution_count": 12,
     "metadata": {},
     "output_type": "execute_result"
    }
   ],
   "source": [
    "r.recognize_sphinx(audio)"
   ],
   "metadata": {
    "collapsed": false
   }
  },
  {
   "cell_type": "code",
   "execution_count": null,
   "outputs": [],
   "source": [],
   "metadata": {
    "collapsed": false
   }
  }
 ],
 "metadata": {
  "kernelspec": {
   "display_name": "Python 3",
   "language": "python",
   "name": "python3"
  },
  "language_info": {
   "codemirror_mode": {
    "name": "ipython",
    "version": 2
   },
   "file_extension": ".py",
   "mimetype": "text/x-python",
   "name": "python",
   "nbconvert_exporter": "python",
   "pygments_lexer": "ipython2",
   "version": "2.7.6"
  }
 },
 "nbformat": 4,
 "nbformat_minor": 0
}
