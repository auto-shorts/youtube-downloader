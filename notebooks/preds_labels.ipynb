{
 "cells": [
  {
   "cell_type": "code",
   "execution_count": 1,
   "id": "initial_id",
   "metadata": {
    "collapsed": true,
    "ExecuteTime": {
     "end_time": "2024-09-22T18:12:23.555944Z",
     "start_time": "2024-09-22T18:12:22.968532Z"
    }
   },
   "outputs": [],
   "source": [
    "import pandas as pd"
   ]
  },
  {
   "cell_type": "code",
   "outputs": [
    {
     "data": {
      "text/plain": "True"
     },
     "execution_count": 2,
     "metadata": {},
     "output_type": "execute_result"
    }
   ],
   "source": [
    "from dotenv import load_dotenv\n",
    "load_dotenv('../../extractors/.env')"
   ],
   "metadata": {
    "collapsed": false,
    "ExecuteTime": {
     "end_time": "2024-09-22T18:12:23.574507Z",
     "start_time": "2024-09-22T18:12:23.556948Z"
    }
   },
   "id": "c91f8799e24bc265",
   "execution_count": 2
  },
  {
   "cell_type": "code",
   "outputs": [],
   "source": [
    "import boto3\n",
    "boto3.resource(\"s3\").Bucket(\"auto-shorts\").download_file(\"data/preds_labels_10_perc.json\", \"preds_labels_10_perc.json\")"
   ],
   "metadata": {
    "collapsed": false,
    "ExecuteTime": {
     "end_time": "2024-09-22T18:12:25.181948Z",
     "start_time": "2024-09-22T18:12:23.575512Z"
    }
   },
   "id": "2613abb74d81b255",
   "execution_count": 3
  },
  {
   "cell_type": "code",
   "outputs": [],
   "source": [
    "df = pd.read_json(\"preds_labels_10_perc.json\")"
   ],
   "metadata": {
    "collapsed": false,
    "ExecuteTime": {
     "end_time": "2024-09-22T18:12:25.206945Z",
     "start_time": "2024-09-22T18:12:25.182954Z"
    }
   },
   "id": "2b2c37fc98615592",
   "execution_count": 4
  },
  {
   "cell_type": "code",
   "outputs": [
    {
     "data": {
      "text/plain": "                                              OocRG_9aT3g  \\\npreds   [9.864239473245107e-06, 2.851082626875722e-06,...   \nlabels  [0.0, 0.0, 0.0, 0.0, 0.0, 0.0, 0.0, 0.0, 0.0, ...   \n\n                                              OPzh8SUnu-4  \\\npreds   [5.565310493693688e-05, 0.00021326643764000002...   \nlabels  [0.0, 0.0, 0.0, 0.0, 0.0, 0.0, 0.0, 0.0, 0.0, ...   \n\n                                              p39rR4nLJV0  \\\npreds   [1.2973753655387551e-05, 1.4707291484228332e-0...   \nlabels  [0.0, 0.0, 0.0, 0.0, 0.0, 0.0, 0.0, 0.0, 0.0, ...   \n\n                                              P8V_bx0L4RY  \\\npreds   [0.000268821691861, 9.006078471429647e-05, 6.1...   \nlabels  [0.0, 0.0, 0.0, 0.0, 0.0, 1.0, 1.0, 1.0, 1.0, ...   \n\n                                              PBokg31iFAs  \\\npreds   [0.000731716048903, 0.0023142013233150003, 0.0...   \nlabels  [0.0, 0.0, 0.0, 0.0, 0.0, 1.0, 1.0, 1.0, 1.0, ...   \n\n                                              piyk0iI9E6Q  \\\npreds   [1.039860990204033e-06, 2.05073956749402e-05, ...   \nlabels  [0.0, 0.0, 0.0, 0.0, 0.0, 0.0, 0.0, 0.0, 0.0, ...   \n\n                                              pPmllgDFQVI  \\\npreds   [4.605104550137184e-06, 1.486916971771279e-06,...   \nlabels  [0.0, 0.0, 0.0, 0.0, 0.0, 0.0, 0.0, 0.0, 0.0, ...   \n\n                                              Pw3_CyFFsXQ  \\\npreds   [0.000372893933672, 0.010582289658486, 0.04819...   \nlabels  [0.0, 0.0, 0.0, 0.0, 0.0, 0.0, 0.0, 0.0, 0.0, ...   \n\n                                              q9bX7EkMvrA  \\\npreds   [1.8616615307109892e-06, 3.285272441644338e-06...   \nlabels  [0.0, 0.0, 0.0, 0.0, 0.0, 0.0, 0.0, 0.0, 0.0, ...   \n\n                                              qkRUcYHJ1JI  \\\npreds   [0.00012971280375400002, 1.06318645975989e-06,...   \nlabels  [0.0, 0.0, 0.0, 0.0, 0.0, 0.0, 0.0, 0.0, 0.0, ...   \n\n                                              QtSMXXJq11Q  \\\npreds   [6.314594998002576e-07, 9.569253052177373e-06,...   \nlabels  [0.0, 0.0, 0.0, 0.0, 0.0, 0.0, 0.0, 0.0, 0.0, ...   \n\n                                              QuncAUHpl-8  \\\npreds   [0.003051803447306, 0.00011800379434100001, 0....   \nlabels  [0.0, 0.0, 0.0, 0.0, 0.0, 1.0, 1.0, 1.0, 1.0, ...   \n\n                                              qUUloBe5vEo  \\\npreds   [0.004293981939554, 0.12196553498506502, 6.199...   \nlabels  [0.0, 0.0, 0.0, 0.0, 0.0, 0.0, 0.0, 0.0, 0.0, ...   \n\n                                              QxV2Uj17e8Y  \\\npreds   [2.749736495388788e-06, 8.983280963548168e-07,...   \nlabels  [0.0, 0.0, 0.0, 0.0, 0.0, 0.0, 0.0, 0.0, 0.0, ...   \n\n                                              RdNqmKrRmbU  \\\npreds   [4.368506051832811e-05, 1.624806827749125e-05,...   \nlabels  [0.0, 0.0, 0.0, 0.0, 0.0, 0.0, 0.0, 0.0, 0.0, ...   \n\n                                              rQWb_oYS1tg  \\\npreds   [0.26151785254478405, 0.011415098793804, 0.058...   \nlabels  [0.0, 0.0, 0.0, 0.0, 0.0, 1.0, 1.0, 1.0, 1.0, ...   \n\n                                              rRsoSIJtKJs  \\\npreds   [0.002443985315039, 0.000171239109477, 0.45667...   \nlabels  [0.0, 0.0, 0.0, 0.0, 0.0, 0.0, 0.0, 0.0, 0.0, ...   \n\n                                              RrxdB1VpYWo  \\\npreds   [0.006621923763304001, 0.056512244045734, 0.34...   \nlabels  [0.0, 0.0, 0.0, 0.0, 0.0, 0.0, 0.0, 0.0, 0.0, ...   \n\n                                              S9KxqRUcnCU  \npreds   [0.003846033243462, 5.66438029636629e-05, 0.00...  \nlabels  [0.0, 0.0, 0.0, 0.0, 0.0, 1.0, 1.0, 1.0, 1.0, ...  ",
      "text/html": "<div>\n<style scoped>\n    .dataframe tbody tr th:only-of-type {\n        vertical-align: middle;\n    }\n\n    .dataframe tbody tr th {\n        vertical-align: top;\n    }\n\n    .dataframe thead th {\n        text-align: right;\n    }\n</style>\n<table border=\"1\" class=\"dataframe\">\n  <thead>\n    <tr style=\"text-align: right;\">\n      <th></th>\n      <th>OocRG_9aT3g</th>\n      <th>OPzh8SUnu-4</th>\n      <th>p39rR4nLJV0</th>\n      <th>P8V_bx0L4RY</th>\n      <th>PBokg31iFAs</th>\n      <th>piyk0iI9E6Q</th>\n      <th>pPmllgDFQVI</th>\n      <th>Pw3_CyFFsXQ</th>\n      <th>q9bX7EkMvrA</th>\n      <th>qkRUcYHJ1JI</th>\n      <th>QtSMXXJq11Q</th>\n      <th>QuncAUHpl-8</th>\n      <th>qUUloBe5vEo</th>\n      <th>QxV2Uj17e8Y</th>\n      <th>RdNqmKrRmbU</th>\n      <th>rQWb_oYS1tg</th>\n      <th>rRsoSIJtKJs</th>\n      <th>RrxdB1VpYWo</th>\n      <th>S9KxqRUcnCU</th>\n    </tr>\n  </thead>\n  <tbody>\n    <tr>\n      <th>preds</th>\n      <td>[9.864239473245107e-06, 2.851082626875722e-06,...</td>\n      <td>[5.565310493693688e-05, 0.00021326643764000002...</td>\n      <td>[1.2973753655387551e-05, 1.4707291484228332e-0...</td>\n      <td>[0.000268821691861, 9.006078471429647e-05, 6.1...</td>\n      <td>[0.000731716048903, 0.0023142013233150003, 0.0...</td>\n      <td>[1.039860990204033e-06, 2.05073956749402e-05, ...</td>\n      <td>[4.605104550137184e-06, 1.486916971771279e-06,...</td>\n      <td>[0.000372893933672, 0.010582289658486, 0.04819...</td>\n      <td>[1.8616615307109892e-06, 3.285272441644338e-06...</td>\n      <td>[0.00012971280375400002, 1.06318645975989e-06,...</td>\n      <td>[6.314594998002576e-07, 9.569253052177373e-06,...</td>\n      <td>[0.003051803447306, 0.00011800379434100001, 0....</td>\n      <td>[0.004293981939554, 0.12196553498506502, 6.199...</td>\n      <td>[2.749736495388788e-06, 8.983280963548168e-07,...</td>\n      <td>[4.368506051832811e-05, 1.624806827749125e-05,...</td>\n      <td>[0.26151785254478405, 0.011415098793804, 0.058...</td>\n      <td>[0.002443985315039, 0.000171239109477, 0.45667...</td>\n      <td>[0.006621923763304001, 0.056512244045734, 0.34...</td>\n      <td>[0.003846033243462, 5.66438029636629e-05, 0.00...</td>\n    </tr>\n    <tr>\n      <th>labels</th>\n      <td>[0.0, 0.0, 0.0, 0.0, 0.0, 0.0, 0.0, 0.0, 0.0, ...</td>\n      <td>[0.0, 0.0, 0.0, 0.0, 0.0, 0.0, 0.0, 0.0, 0.0, ...</td>\n      <td>[0.0, 0.0, 0.0, 0.0, 0.0, 0.0, 0.0, 0.0, 0.0, ...</td>\n      <td>[0.0, 0.0, 0.0, 0.0, 0.0, 1.0, 1.0, 1.0, 1.0, ...</td>\n      <td>[0.0, 0.0, 0.0, 0.0, 0.0, 1.0, 1.0, 1.0, 1.0, ...</td>\n      <td>[0.0, 0.0, 0.0, 0.0, 0.0, 0.0, 0.0, 0.0, 0.0, ...</td>\n      <td>[0.0, 0.0, 0.0, 0.0, 0.0, 0.0, 0.0, 0.0, 0.0, ...</td>\n      <td>[0.0, 0.0, 0.0, 0.0, 0.0, 0.0, 0.0, 0.0, 0.0, ...</td>\n      <td>[0.0, 0.0, 0.0, 0.0, 0.0, 0.0, 0.0, 0.0, 0.0, ...</td>\n      <td>[0.0, 0.0, 0.0, 0.0, 0.0, 0.0, 0.0, 0.0, 0.0, ...</td>\n      <td>[0.0, 0.0, 0.0, 0.0, 0.0, 0.0, 0.0, 0.0, 0.0, ...</td>\n      <td>[0.0, 0.0, 0.0, 0.0, 0.0, 1.0, 1.0, 1.0, 1.0, ...</td>\n      <td>[0.0, 0.0, 0.0, 0.0, 0.0, 0.0, 0.0, 0.0, 0.0, ...</td>\n      <td>[0.0, 0.0, 0.0, 0.0, 0.0, 0.0, 0.0, 0.0, 0.0, ...</td>\n      <td>[0.0, 0.0, 0.0, 0.0, 0.0, 0.0, 0.0, 0.0, 0.0, ...</td>\n      <td>[0.0, 0.0, 0.0, 0.0, 0.0, 1.0, 1.0, 1.0, 1.0, ...</td>\n      <td>[0.0, 0.0, 0.0, 0.0, 0.0, 0.0, 0.0, 0.0, 0.0, ...</td>\n      <td>[0.0, 0.0, 0.0, 0.0, 0.0, 0.0, 0.0, 0.0, 0.0, ...</td>\n      <td>[0.0, 0.0, 0.0, 0.0, 0.0, 1.0, 1.0, 1.0, 1.0, ...</td>\n    </tr>\n  </tbody>\n</table>\n</div>"
     },
     "execution_count": 5,
     "metadata": {},
     "output_type": "execute_result"
    }
   ],
   "source": [
    "df"
   ],
   "metadata": {
    "collapsed": false,
    "ExecuteTime": {
     "end_time": "2024-09-22T18:12:25.249108Z",
     "start_time": "2024-09-22T18:12:25.207952Z"
    }
   },
   "id": "8eaf60691b7c12bd",
   "execution_count": 5
  },
  {
   "cell_type": "code",
   "outputs": [
    {
     "data": {
      "text/plain": "['OocRG_9aT3g',\n 'OPzh8SUnu-4',\n 'p39rR4nLJV0',\n 'P8V_bx0L4RY',\n 'PBokg31iFAs',\n 'piyk0iI9E6Q',\n 'pPmllgDFQVI',\n 'Pw3_CyFFsXQ',\n 'q9bX7EkMvrA',\n 'qkRUcYHJ1JI',\n 'QtSMXXJq11Q',\n 'QuncAUHpl-8',\n 'qUUloBe5vEo',\n 'QxV2Uj17e8Y',\n 'RdNqmKrRmbU',\n 'rQWb_oYS1tg',\n 'rRsoSIJtKJs',\n 'RrxdB1VpYWo',\n 'S9KxqRUcnCU']"
     },
     "execution_count": 29,
     "metadata": {},
     "output_type": "execute_result"
    }
   ],
   "source": [
    "df.columns.tolist()"
   ],
   "metadata": {
    "collapsed": false,
    "ExecuteTime": {
     "end_time": "2024-09-22T18:23:43.616165Z",
     "start_time": "2024-09-22T18:23:43.611089Z"
    }
   },
   "id": "720db706d465facd",
   "execution_count": 29
  },
  {
   "cell_type": "code",
   "outputs": [],
   "source": [
    "import heapq\n",
    "preds = heapq.nlargest(5, df['p39rR4nLJV0'].loc['preds'])\n",
    "labels = [df['p39rR4nLJV0'].loc['labels'][i] for i in [df['p39rR4nLJV0'].loc['preds'].index(p) for p in preds]]\n",
    "# [df['p39rR4nLJV0'].loc['preds'].index(p) for p in preds]\n",
    "# get indices of top 5 value"
   ],
   "metadata": {
    "collapsed": false,
    "ExecuteTime": {
     "end_time": "2024-09-22T18:21:30.616913Z",
     "start_time": "2024-09-22T18:21:30.612929Z"
    }
   },
   "id": "c03dd17f2c72be62",
   "execution_count": 26
  },
  {
   "cell_type": "code",
   "outputs": [
    {
     "data": {
      "text/plain": "[<matplotlib.lines.Line2D at 0x203e6d707a0>]"
     },
     "execution_count": 7,
     "metadata": {},
     "output_type": "execute_result"
    },
    {
     "data": {
      "text/plain": "<Figure size 1000x600 with 2 Axes>",
      "image/png": "[encoded data removed]"
     },
     "metadata": {},
     "output_type": "display_data"
    }
   ],
   "source": [
    "import matplotlib.pyplot as plt\n",
    "vid_id = 'p39rR4nLJV0'\n",
    "fig, ax1 = plt.subplots(figsize=(10, 6))\n",
    "# plot preds on one axis and labels on second one\n",
    "ax1.plot(df[vid_id]['preds'], color='orange')\n",
    "ax2 = ax1.twinx()\n",
    "ax2.plot(df[vid_id]['labels'])\n"
   ],
   "metadata": {
    "collapsed": false,
    "ExecuteTime": {
     "end_time": "2024-09-22T10:56:52.313100Z",
     "start_time": "2024-09-22T10:56:51.580146Z"
    }
   },
   "id": "35b14d7d2209ea6a",
   "execution_count": 7
  },
  {
   "cell_type": "code",
   "outputs": [
    {
     "name": "stderr",
     "output_type": "stream",
     "text": [
      "2024-09-22 21:48:08.603 | INFO     | metrics:extract_labels_preds:54 - Extracting labels and preds from DataFrame\n",
      "2024-09-22 21:48:08.604 | INFO     | metrics:extract_labels_preds_top_k:38 - Extracting labels and preds for top 5 moments from DataFrame\n",
      "2024-09-22 21:48:08.607 | INFO     | metrics:calculate_class_pred_metrics:64 - Calculating class metrics for each threshold\n",
      "2024-09-22 21:52:39.874 | INFO     | metrics:maximize_class_metrics:122 - Maximizing class metrics\n",
      "2024-09-22 21:52:39.877 | INFO     | metrics:calculate_pred_metrics:77 - Calculating metrics for each threshold\n",
      "2024-09-22 21:52:39.887 | INFO     | metrics:get_top_k_metrics:107 - Calculating metrics for top 5 moments\n",
      "2024-09-22 21:52:39.888 | INFO     | metrics:calculate_class_pred_metrics:64 - Calculating class metrics for each threshold\n",
      "2024-09-22 21:52:39.897 | INFO     | metrics:calculate_pred_metrics:77 - Calculating metrics for each threshold\n"
     ]
    }
   ],
   "source": [
    "from importlib import reload\n",
    "import metrics as m\n",
    "reload(m)\n",
    "\n",
    "mc = m.MetricCalculator(df, top_k=5)\n",
    "top_5 = mc.metrics"
   ],
   "metadata": {
    "collapsed": false,
    "ExecuteTime": {
     "end_time": "2024-09-22T19:52:39.903578Z",
     "start_time": "2024-09-22T19:48:08.598159Z"
    }
   },
   "id": "f8ceffb1bd04ccf0",
   "execution_count": 99
  },
  {
   "cell_type": "code",
   "outputs": [
    {
     "data": {
      "text/plain": "                    index     threshold     value\n0                      f1  7.302340e-02  0.188285\n1                accuracy  9.999661e-01  0.907263\n2               precision  9.917676e-01  0.248408\n3                  recall  3.358031e-08  1.000000\n4                   kappa  6.668185e-01  0.090101\n0                 roc_auc           NaN  0.570737\n1       average_precision           NaN  0.129459\n0           accuracy_top5  8.366333e-01  0.263158\n1                 f1_top5  8.366333e-01  0.416667\n2              kappa_top5  8.366333e-01  0.000000\n3          precision_top5  8.366333e-01  0.263158\n4             recall_top5  8.366333e-01  1.000000\n0            roc_auc_top5           NaN  0.482857\n1  average_precision_top5           NaN  0.243900",
      "text/html": "<div>\n<style scoped>\n    .dataframe tbody tr th:only-of-type {\n        vertical-align: middle;\n    }\n\n    .dataframe tbody tr th {\n        vertical-align: top;\n    }\n\n    .dataframe thead th {\n        text-align: right;\n    }\n</style>\n<table border=\"1\" class=\"dataframe\">\n  <thead>\n    <tr style=\"text-align: right;\">\n      <th></th>\n      <th>index</th>\n      <th>threshold</th>\n      <th>value</th>\n    </tr>\n  </thead>\n  <tbody>\n    <tr>\n      <th>0</th>\n      <td>f1</td>\n      <td>7.302340e-02</td>\n      <td>0.188285</td>\n    </tr>\n    <tr>\n      <th>1</th>\n      <td>accuracy</td>\n      <td>9.999661e-01</td>\n      <td>0.907263</td>\n    </tr>\n    <tr>\n      <th>2</th>\n      <td>precision</td>\n      <td>9.917676e-01</td>\n      <td>0.248408</td>\n    </tr>\n    <tr>\n      <th>3</th>\n      <td>recall</td>\n      <td>3.358031e-08</td>\n      <td>1.000000</td>\n    </tr>\n    <tr>\n      <th>4</th>\n      <td>kappa</td>\n      <td>6.668185e-01</td>\n      <td>0.090101</td>\n    </tr>\n    <tr>\n      <th>0</th>\n      <td>roc_auc</td>\n      <td>NaN</td>\n      <td>0.570737</td>\n    </tr>\n    <tr>\n      <th>1</th>\n      <td>average_precision</td>\n      <td>NaN</td>\n      <td>0.129459</td>\n    </tr>\n    <tr>\n      <th>0</th>\n      <td>accuracy_top5</td>\n      <td>8.366333e-01</td>\n      <td>0.263158</td>\n    </tr>\n    <tr>\n      <th>1</th>\n      <td>f1_top5</td>\n      <td>8.366333e-01</td>\n      <td>0.416667</td>\n    </tr>\n    <tr>\n      <th>2</th>\n      <td>kappa_top5</td>\n      <td>8.366333e-01</td>\n      <td>0.000000</td>\n    </tr>\n    <tr>\n      <th>3</th>\n      <td>precision_top5</td>\n      <td>8.366333e-01</td>\n      <td>0.263158</td>\n    </tr>\n    <tr>\n      <th>4</th>\n      <td>recall_top5</td>\n      <td>8.366333e-01</td>\n      <td>1.000000</td>\n    </tr>\n    <tr>\n      <th>0</th>\n      <td>roc_auc_top5</td>\n      <td>NaN</td>\n      <td>0.482857</td>\n    </tr>\n    <tr>\n      <th>1</th>\n      <td>average_precision_top5</td>\n      <td>NaN</td>\n      <td>0.243900</td>\n    </tr>\n  </tbody>\n</table>\n</div>"
     },
     "execution_count": 100,
     "metadata": {},
     "output_type": "execute_result"
    }
   ],
   "source": [
    "top_5"
   ],
   "metadata": {
    "collapsed": false,
    "ExecuteTime": {
     "end_time": "2024-09-22T19:52:39.915667Z",
     "start_time": "2024-09-22T19:52:39.905630Z"
    }
   },
   "id": "fa5aaf3763f94ae4",
   "execution_count": 100
  },
  {
   "cell_type": "code",
   "outputs": [
    {
     "name": "stderr",
     "output_type": "stream",
     "text": [
      "2024-09-22 21:52:39.926 | INFO     | metrics:extract_labels_preds:54 - Extracting labels and preds from DataFrame\n",
      "2024-09-22 21:52:39.927 | INFO     | metrics:extract_labels_preds_top_k:38 - Extracting labels and preds for top 25 moments from DataFrame\n",
      "2024-09-22 21:52:39.939 | INFO     | metrics:calculate_class_pred_metrics:64 - Calculating class metrics for each threshold\n",
      "2024-09-22 21:57:08.152 | INFO     | metrics:maximize_class_metrics:122 - Maximizing class metrics\n",
      "2024-09-22 21:57:08.154 | INFO     | metrics:calculate_pred_metrics:77 - Calculating metrics for each threshold\n",
      "2024-09-22 21:57:08.165 | INFO     | metrics:get_top_k_metrics:107 - Calculating metrics for top 25 moments\n",
      "2024-09-22 21:57:08.166 | INFO     | metrics:calculate_class_pred_metrics:64 - Calculating class metrics for each threshold\n",
      "2024-09-22 21:57:08.172 | INFO     | metrics:calculate_pred_metrics:77 - Calculating metrics for each threshold\n"
     ]
    }
   ],
   "source": [
    "from importlib import reload\n",
    "import metrics as m\n",
    "reload(m)\n",
    "\n",
    "mc = m.MetricCalculator(df, top_k=25)\n",
    "top_25 = mc.metrics"
   ],
   "metadata": {
    "collapsed": false,
    "ExecuteTime": {
     "end_time": "2024-09-22T19:57:08.179141Z",
     "start_time": "2024-09-22T19:52:39.916673Z"
    }
   },
   "id": "f3969096172605ce",
   "execution_count": 101
  },
  {
   "cell_type": "code",
   "outputs": [
    {
     "data": {
      "text/plain": "                     index     threshold     value\n0                       f1  7.302340e-02  0.188285\n1                 accuracy  9.999661e-01  0.907263\n2                precision  9.917676e-01  0.248408\n3                   recall  3.358031e-08  1.000000\n4                    kappa  6.668185e-01  0.090101\n0                  roc_auc           NaN  0.570737\n1        average_precision           NaN  0.129459\n0           accuracy_top25  3.608802e-01  0.212632\n1                 f1_top25  3.608802e-01  0.350694\n2              kappa_top25  3.608802e-01  0.000000\n3          precision_top25  3.608802e-01  0.212632\n4             recall_top25  3.608802e-01  1.000000\n0            roc_auc_top25           NaN  0.532668\n1  average_precision_top25           NaN  0.223178",
      "text/html": "<div>\n<style scoped>\n    .dataframe tbody tr th:only-of-type {\n        vertical-align: middle;\n    }\n\n    .dataframe tbody tr th {\n        vertical-align: top;\n    }\n\n    .dataframe thead th {\n        text-align: right;\n    }\n</style>\n<table border=\"1\" class=\"dataframe\">\n  <thead>\n    <tr style=\"text-align: right;\">\n      <th></th>\n      <th>index</th>\n      <th>threshold</th>\n      <th>value</th>\n    </tr>\n  </thead>\n  <tbody>\n    <tr>\n      <th>0</th>\n      <td>f1</td>\n      <td>7.302340e-02</td>\n      <td>0.188285</td>\n    </tr>\n    <tr>\n      <th>1</th>\n      <td>accuracy</td>\n      <td>9.999661e-01</td>\n      <td>0.907263</td>\n    </tr>\n    <tr>\n      <th>2</th>\n      <td>precision</td>\n      <td>9.917676e-01</td>\n      <td>0.248408</td>\n    </tr>\n    <tr>\n      <th>3</th>\n      <td>recall</td>\n      <td>3.358031e-08</td>\n      <td>1.000000</td>\n    </tr>\n    <tr>\n      <th>4</th>\n      <td>kappa</td>\n      <td>6.668185e-01</td>\n      <td>0.090101</td>\n    </tr>\n    <tr>\n      <th>0</th>\n      <td>roc_auc</td>\n      <td>NaN</td>\n      <td>0.570737</td>\n    </tr>\n    <tr>\n      <th>1</th>\n      <td>average_precision</td>\n      <td>NaN</td>\n      <td>0.129459</td>\n    </tr>\n    <tr>\n      <th>0</th>\n      <td>accuracy_top25</td>\n      <td>3.608802e-01</td>\n      <td>0.212632</td>\n    </tr>\n    <tr>\n      <th>1</th>\n      <td>f1_top25</td>\n      <td>3.608802e-01</td>\n      <td>0.350694</td>\n    </tr>\n    <tr>\n      <th>2</th>\n      <td>kappa_top25</td>\n      <td>3.608802e-01</td>\n      <td>0.000000</td>\n    </tr>\n    <tr>\n      <th>3</th>\n      <td>precision_top25</td>\n      <td>3.608802e-01</td>\n      <td>0.212632</td>\n    </tr>\n    <tr>\n      <th>4</th>\n      <td>recall_top25</td>\n      <td>3.608802e-01</td>\n      <td>1.000000</td>\n    </tr>\n    <tr>\n      <th>0</th>\n      <td>roc_auc_top25</td>\n      <td>NaN</td>\n      <td>0.532668</td>\n    </tr>\n    <tr>\n      <th>1</th>\n      <td>average_precision_top25</td>\n      <td>NaN</td>\n      <td>0.223178</td>\n    </tr>\n  </tbody>\n</table>\n</div>"
     },
     "execution_count": 102,
     "metadata": {},
     "output_type": "execute_result"
    }
   ],
   "source": [
    "top_25"
   ],
   "metadata": {
    "collapsed": false,
    "ExecuteTime": {
     "end_time": "2024-09-22T19:57:08.187170Z",
     "start_time": "2024-09-22T19:57:08.180147Z"
    }
   },
   "id": "d36f36c48886d456",
   "execution_count": 102
  },
  {
   "cell_type": "code",
   "outputs": [
    {
     "name": "stderr",
     "output_type": "stream",
     "text": [
      "2024-09-22 23:02:53.028 | INFO     | metrics:extract_labels_preds:54 - Extracting labels and preds from DataFrame\n",
      "2024-09-22 23:02:53.029 | INFO     | metrics:extract_labels_preds_top_k:38 - Extracting labels and preds for top 5 moments from DataFrame\n",
      "2024-09-22 23:02:53.033 | INFO     | metrics:calculate_class_pred_metrics:64 - Calculating class metrics for each threshold\n",
      "2024-09-22 23:07:05.698 | INFO     | metrics:maximize_class_metrics:122 - Maximizing class metrics\n",
      "2024-09-22 23:07:05.701 | INFO     | metrics:calculate_pred_metrics:77 - Calculating metrics for each threshold\n",
      "2024-09-22 23:07:05.710 | INFO     | metrics:get_top_k_metrics:107 - Calculating metrics for top 5 moments\n",
      "2024-09-22 23:07:05.711 | INFO     | metrics:calculate_class_pred_metrics:64 - Calculating class metrics for each threshold\n",
      "2024-09-22 23:07:05.718 | INFO     | metrics:calculate_pred_metrics:77 - Calculating metrics for each threshold\n"
     ]
    },
    {
     "name": "stdout",
     "output_type": "stream",
     "text": [
      "Done with preds_labels_10_perc\n"
     ]
    },
    {
     "name": "stderr",
     "output_type": "stream",
     "text": [
      "2024-09-22 23:07:07.071 | INFO     | metrics:extract_labels_preds:54 - Extracting labels and preds from DataFrame\n",
      "2024-09-22 23:07:07.073 | INFO     | metrics:extract_labels_preds_top_k:38 - Extracting labels and preds for top 5 moments from DataFrame\n",
      "2024-09-22 23:07:07.078 | INFO     | metrics:calculate_class_pred_metrics:64 - Calculating class metrics for each threshold\n",
      "2024-09-22 23:11:18.435 | INFO     | metrics:maximize_class_metrics:122 - Maximizing class metrics\n",
      "2024-09-22 23:11:18.437 | INFO     | metrics:calculate_pred_metrics:77 - Calculating metrics for each threshold\n",
      "2024-09-22 23:11:18.445 | INFO     | metrics:get_top_k_metrics:107 - Calculating metrics for top 5 moments\n",
      "2024-09-22 23:11:18.446 | INFO     | metrics:calculate_class_pred_metrics:64 - Calculating class metrics for each threshold\n",
      "2024-09-22 23:11:18.453 | INFO     | metrics:calculate_pred_metrics:77 - Calculating metrics for each threshold\n"
     ]
    },
    {
     "name": "stdout",
     "output_type": "stream",
     "text": [
      "Done with preds_labels_15_perc\n"
     ]
    },
    {
     "name": "stderr",
     "output_type": "stream",
     "text": [
      "2024-09-22 23:11:19.967 | INFO     | metrics:extract_labels_preds:54 - Extracting labels and preds from DataFrame\n",
      "2024-09-22 23:11:19.968 | INFO     | metrics:extract_labels_preds_top_k:38 - Extracting labels and preds for top 5 moments from DataFrame\n",
      "2024-09-22 23:11:19.972 | INFO     | metrics:calculate_class_pred_metrics:64 - Calculating class metrics for each threshold\n",
      "2024-09-22 23:15:26.068 | INFO     | metrics:maximize_class_metrics:122 - Maximizing class metrics\n",
      "2024-09-22 23:15:26.071 | INFO     | metrics:calculate_pred_metrics:77 - Calculating metrics for each threshold\n",
      "2024-09-22 23:15:26.081 | INFO     | metrics:get_top_k_metrics:107 - Calculating metrics for top 5 moments\n",
      "2024-09-22 23:15:26.081 | INFO     | metrics:calculate_class_pred_metrics:64 - Calculating class metrics for each threshold\n",
      "2024-09-22 23:15:26.088 | INFO     | metrics:calculate_pred_metrics:77 - Calculating metrics for each threshold\n"
     ]
    },
    {
     "name": "stdout",
     "output_type": "stream",
     "text": [
      "Done with preds_labels_20_perc\n"
     ]
    },
    {
     "name": "stderr",
     "output_type": "stream",
     "text": [
      "2024-09-22 23:15:27.266 | INFO     | metrics:extract_labels_preds:54 - Extracting labels and preds from DataFrame\n",
      "2024-09-22 23:15:27.267 | INFO     | metrics:extract_labels_preds_top_k:38 - Extracting labels and preds for top 5 moments from DataFrame\n",
      "2024-09-22 23:15:27.271 | INFO     | metrics:calculate_class_pred_metrics:64 - Calculating class metrics for each threshold\n",
      "2024-09-22 23:19:32.765 | INFO     | metrics:maximize_class_metrics:122 - Maximizing class metrics\n",
      "2024-09-22 23:19:32.767 | INFO     | metrics:calculate_pred_metrics:77 - Calculating metrics for each threshold\n",
      "2024-09-22 23:19:32.776 | INFO     | metrics:get_top_k_metrics:107 - Calculating metrics for top 5 moments\n",
      "2024-09-22 23:19:32.777 | INFO     | metrics:calculate_class_pred_metrics:64 - Calculating class metrics for each threshold\n",
      "2024-09-22 23:19:32.784 | INFO     | metrics:calculate_pred_metrics:77 - Calculating metrics for each threshold\n"
     ]
    },
    {
     "name": "stdout",
     "output_type": "stream",
     "text": [
      "Done with preds_labels_25_perc\n"
     ]
    },
    {
     "name": "stderr",
     "output_type": "stream",
     "text": [
      "2024-09-22 23:19:33.998 | INFO     | metrics:extract_labels_preds:54 - Extracting labels and preds from DataFrame\n",
      "2024-09-22 23:19:33.999 | INFO     | metrics:extract_labels_preds_top_k:38 - Extracting labels and preds for top 5 moments from DataFrame\n",
      "2024-09-22 23:19:34.003 | INFO     | metrics:calculate_class_pred_metrics:64 - Calculating class metrics for each threshold\n",
      "2024-09-22 23:23:31.796 | INFO     | metrics:maximize_class_metrics:122 - Maximizing class metrics\n",
      "2024-09-22 23:23:31.799 | INFO     | metrics:calculate_pred_metrics:77 - Calculating metrics for each threshold\n",
      "2024-09-22 23:23:31.809 | INFO     | metrics:get_top_k_metrics:107 - Calculating metrics for top 5 moments\n",
      "2024-09-22 23:23:31.809 | INFO     | metrics:calculate_class_pred_metrics:64 - Calculating class metrics for each threshold\n",
      "2024-09-22 23:23:31.816 | INFO     | metrics:calculate_pred_metrics:77 - Calculating metrics for each threshold\n"
     ]
    },
    {
     "name": "stdout",
     "output_type": "stream",
     "text": [
      "Done with preds_labels_30_perc\n"
     ]
    },
    {
     "name": "stderr",
     "output_type": "stream",
     "text": [
      "2024-09-22 23:23:33.020 | INFO     | metrics:extract_labels_preds:54 - Extracting labels and preds from DataFrame\n",
      "2024-09-22 23:23:33.021 | INFO     | metrics:extract_labels_preds_top_k:38 - Extracting labels and preds for top 5 moments from DataFrame\n",
      "2024-09-22 23:23:33.025 | INFO     | metrics:calculate_class_pred_metrics:64 - Calculating class metrics for each threshold\n",
      "2024-09-22 23:27:41.548 | INFO     | metrics:maximize_class_metrics:122 - Maximizing class metrics\n",
      "2024-09-22 23:27:41.552 | INFO     | metrics:calculate_pred_metrics:77 - Calculating metrics for each threshold\n",
      "2024-09-22 23:27:41.561 | INFO     | metrics:get_top_k_metrics:107 - Calculating metrics for top 5 moments\n",
      "2024-09-22 23:27:41.562 | INFO     | metrics:calculate_class_pred_metrics:64 - Calculating class metrics for each threshold\n",
      "2024-09-22 23:27:41.568 | INFO     | metrics:calculate_pred_metrics:77 - Calculating metrics for each threshold\n"
     ]
    },
    {
     "name": "stdout",
     "output_type": "stream",
     "text": [
      "Done with preds_labels_3_perc_1k_epochs\n"
     ]
    },
    {
     "name": "stderr",
     "output_type": "stream",
     "text": [
      "2024-09-22 23:27:43.028 | INFO     | metrics:extract_labels_preds:54 - Extracting labels and preds from DataFrame\n",
      "2024-09-22 23:27:43.029 | INFO     | metrics:extract_labels_preds_top_k:38 - Extracting labels and preds for top 5 moments from DataFrame\n",
      "2024-09-22 23:27:43.033 | INFO     | metrics:calculate_class_pred_metrics:64 - Calculating class metrics for each threshold\n",
      "2024-09-22 23:31:45.847 | INFO     | metrics:maximize_class_metrics:122 - Maximizing class metrics\n",
      "2024-09-22 23:31:45.850 | INFO     | metrics:calculate_pred_metrics:77 - Calculating metrics for each threshold\n",
      "2024-09-22 23:31:45.861 | INFO     | metrics:get_top_k_metrics:107 - Calculating metrics for top 5 moments\n",
      "2024-09-22 23:31:45.862 | INFO     | metrics:calculate_class_pred_metrics:64 - Calculating class metrics for each threshold\n",
      "2024-09-22 23:31:45.869 | INFO     | metrics:calculate_pred_metrics:77 - Calculating metrics for each threshold\n"
     ]
    },
    {
     "name": "stdout",
     "output_type": "stream",
     "text": [
      "Done with preds_labels_3_perc_20_epochs\n"
     ]
    },
    {
     "name": "stderr",
     "output_type": "stream",
     "text": [
      "2024-09-22 23:31:47.133 | INFO     | metrics:extract_labels_preds:54 - Extracting labels and preds from DataFrame\n",
      "2024-09-22 23:31:47.134 | INFO     | metrics:extract_labels_preds_top_k:38 - Extracting labels and preds for top 5 moments from DataFrame\n",
      "2024-09-22 23:31:47.139 | INFO     | metrics:calculate_class_pred_metrics:64 - Calculating class metrics for each threshold\n",
      "2024-09-22 23:35:57.675 | INFO     | metrics:maximize_class_metrics:122 - Maximizing class metrics\n",
      "2024-09-22 23:35:57.679 | INFO     | metrics:calculate_pred_metrics:77 - Calculating metrics for each threshold\n",
      "2024-09-22 23:35:57.688 | INFO     | metrics:get_top_k_metrics:107 - Calculating metrics for top 5 moments\n",
      "2024-09-22 23:35:57.688 | INFO     | metrics:calculate_class_pred_metrics:64 - Calculating class metrics for each threshold\n",
      "2024-09-22 23:35:57.696 | INFO     | metrics:calculate_pred_metrics:77 - Calculating metrics for each threshold\n"
     ]
    },
    {
     "name": "stdout",
     "output_type": "stream",
     "text": [
      "Done with preds_labels_1_std\n"
     ]
    },
    {
     "name": "stderr",
     "output_type": "stream",
     "text": [
      "2024-09-22 23:35:58.884 | INFO     | metrics:extract_labels_preds:54 - Extracting labels and preds from DataFrame\n",
      "2024-09-22 23:35:58.884 | INFO     | metrics:extract_labels_preds_top_k:38 - Extracting labels and preds for top 5 moments from DataFrame\n",
      "2024-09-22 23:35:58.891 | INFO     | metrics:calculate_class_pred_metrics:64 - Calculating class metrics for each threshold\n",
      "2024-09-22 23:40:10.616 | INFO     | metrics:maximize_class_metrics:122 - Maximizing class metrics\n",
      "2024-09-22 23:40:10.619 | INFO     | metrics:calculate_pred_metrics:77 - Calculating metrics for each threshold\n",
      "2024-09-22 23:40:10.629 | INFO     | metrics:get_top_k_metrics:107 - Calculating metrics for top 5 moments\n",
      "2024-09-22 23:40:10.631 | INFO     | metrics:calculate_class_pred_metrics:64 - Calculating class metrics for each threshold\n",
      "2024-09-22 23:40:10.638 | INFO     | metrics:calculate_pred_metrics:77 - Calculating metrics for each threshold\n"
     ]
    },
    {
     "name": "stdout",
     "output_type": "stream",
     "text": [
      "Done with preds_labels_1_5_std\n"
     ]
    },
    {
     "name": "stderr",
     "output_type": "stream",
     "text": [
      "2024-09-22 23:40:11.913 | INFO     | metrics:extract_labels_preds:54 - Extracting labels and preds from DataFrame\n",
      "2024-09-22 23:40:11.914 | INFO     | metrics:extract_labels_preds_top_k:38 - Extracting labels and preds for top 5 moments from DataFrame\n",
      "2024-09-22 23:40:11.919 | INFO     | metrics:calculate_class_pred_metrics:64 - Calculating class metrics for each threshold\n",
      "2024-09-22 23:44:23.793 | INFO     | metrics:maximize_class_metrics:122 - Maximizing class metrics\n",
      "2024-09-22 23:44:23.797 | INFO     | metrics:calculate_pred_metrics:77 - Calculating metrics for each threshold\n",
      "2024-09-22 23:44:23.807 | INFO     | metrics:get_top_k_metrics:107 - Calculating metrics for top 5 moments\n",
      "2024-09-22 23:44:23.807 | INFO     | metrics:calculate_class_pred_metrics:64 - Calculating class metrics for each threshold\n",
      "2024-09-22 23:44:23.813 | INFO     | metrics:calculate_pred_metrics:77 - Calculating metrics for each threshold\n"
     ]
    },
    {
     "name": "stdout",
     "output_type": "stream",
     "text": [
      "Done with preds_labels_2_std\n"
     ]
    },
    {
     "name": "stderr",
     "output_type": "stream",
     "text": [
      "2024-09-22 23:44:25.064 | INFO     | metrics:extract_labels_preds:54 - Extracting labels and preds from DataFrame\n",
      "2024-09-22 23:44:25.065 | INFO     | metrics:extract_labels_preds_top_k:38 - Extracting labels and preds for top 5 moments from DataFrame\n",
      "2024-09-22 23:44:25.069 | INFO     | metrics:calculate_class_pred_metrics:64 - Calculating class metrics for each threshold\n",
      "2024-09-22 23:48:36.463 | INFO     | metrics:maximize_class_metrics:122 - Maximizing class metrics\n",
      "2024-09-22 23:48:36.466 | INFO     | metrics:calculate_pred_metrics:77 - Calculating metrics for each threshold\n",
      "2024-09-22 23:48:36.475 | INFO     | metrics:get_top_k_metrics:107 - Calculating metrics for top 5 moments\n",
      "2024-09-22 23:48:36.475 | INFO     | metrics:calculate_class_pred_metrics:64 - Calculating class metrics for each threshold\n",
      "2024-09-22 23:48:36.481 | INFO     | metrics:calculate_pred_metrics:77 - Calculating metrics for each threshold\n"
     ]
    },
    {
     "name": "stdout",
     "output_type": "stream",
     "text": [
      "Done with preds_labels_2_5_std\n"
     ]
    }
   ],
   "source": [
    "all_metrics = []\n",
    "for highlight_rt in ['preds_labels_10_perc',\n",
    " 'preds_labels_15_perc',\n",
    " 'preds_labels_20_perc',\n",
    " 'preds_labels_25_perc',\n",
    " 'preds_labels_30_perc',\n",
    " 'preds_labels_3_perc_1k_epochs',\n",
    " 'preds_labels_3_perc_20_epochs',\n",
    " 'preds_labels_1_std',\n",
    " 'preds_labels_1_5_std',\n",
    " 'preds_labels_2_std',\n",
    " 'preds_labels_2_5_std',   \n",
    "]:\n",
    "    boto3.resource(\"s3\").Bucket(\"auto-shorts\").download_file(f\"data/{highlight_rt}.json\", f\"{highlight_rt}.json\")\n",
    "    df = pd.read_json(f\"{highlight_rt}.json\")\n",
    "    all_metrics.append(m.MetricCalculator(df).metrics.assign(highlight_ratio=highlight_rt))\n",
    "    print(f\"Done with {highlight_rt}\")"
   ],
   "metadata": {
    "collapsed": false,
    "ExecuteTime": {
     "end_time": "2024-09-22T21:48:36.488239Z",
     "start_time": "2024-09-22T21:02:51.726231Z"
    }
   },
   "id": "ee86503ecf514caf",
   "execution_count": 108
  },
  {
   "cell_type": "code",
   "outputs": [
    {
     "data": {
      "text/plain": "                     index     threshold     value       highlight_ratio\n0                       f1  7.302340e-02  0.188285  preds_labels_10_perc\n1                 accuracy  9.999661e-01  0.907263  preds_labels_10_perc\n2                precision  9.917676e-01  0.248408  preds_labels_10_perc\n3                   recall  3.358031e-08  1.000000  preds_labels_10_perc\n4                    kappa  6.668185e-01  0.090101  preds_labels_10_perc\n..                     ...           ...       ...                   ...\n2               kappa_top5  1.899686e-03  0.000000  preds_labels_2_5_std\n3           precision_top5  1.899686e-03  0.073684  preds_labels_2_5_std\n4              recall_top5  1.899686e-03  1.000000  preds_labels_2_5_std\n0             roc_auc_top5           NaN  0.629870  preds_labels_2_5_std\n1   average_precision_top5           NaN  0.171989  preds_labels_2_5_std\n\n[154 rows x 4 columns]",
      "text/html": "<div>\n<style scoped>\n    .dataframe tbody tr th:only-of-type {\n        vertical-align: middle;\n    }\n\n    .dataframe tbody tr th {\n        vertical-align: top;\n    }\n\n    .dataframe thead th {\n        text-align: right;\n    }\n</style>\n<table border=\"1\" class=\"dataframe\">\n  <thead>\n    <tr style=\"text-align: right;\">\n      <th></th>\n      <th>index</th>\n      <th>threshold</th>\n      <th>value</th>\n      <th>highlight_ratio</th>\n    </tr>\n  </thead>\n  <tbody>\n    <tr>\n      <th>0</th>\n      <td>f1</td>\n      <td>7.302340e-02</td>\n      <td>0.188285</td>\n      <td>preds_labels_10_perc</td>\n    </tr>\n    <tr>\n      <th>1</th>\n      <td>accuracy</td>\n      <td>9.999661e-01</td>\n      <td>0.907263</td>\n      <td>preds_labels_10_perc</td>\n    </tr>\n    <tr>\n      <th>2</th>\n      <td>precision</td>\n      <td>9.917676e-01</td>\n      <td>0.248408</td>\n      <td>preds_labels_10_perc</td>\n    </tr>\n    <tr>\n      <th>3</th>\n      <td>recall</td>\n      <td>3.358031e-08</td>\n      <td>1.000000</td>\n      <td>preds_labels_10_perc</td>\n    </tr>\n    <tr>\n      <th>4</th>\n      <td>kappa</td>\n      <td>6.668185e-01</td>\n      <td>0.090101</td>\n      <td>preds_labels_10_perc</td>\n    </tr>\n    <tr>\n      <th>...</th>\n      <td>...</td>\n      <td>...</td>\n      <td>...</td>\n      <td>...</td>\n    </tr>\n    <tr>\n      <th>2</th>\n      <td>kappa_top5</td>\n      <td>1.899686e-03</td>\n      <td>0.000000</td>\n      <td>preds_labels_2_5_std</td>\n    </tr>\n    <tr>\n      <th>3</th>\n      <td>precision_top5</td>\n      <td>1.899686e-03</td>\n      <td>0.073684</td>\n      <td>preds_labels_2_5_std</td>\n    </tr>\n    <tr>\n      <th>4</th>\n      <td>recall_top5</td>\n      <td>1.899686e-03</td>\n      <td>1.000000</td>\n      <td>preds_labels_2_5_std</td>\n    </tr>\n    <tr>\n      <th>0</th>\n      <td>roc_auc_top5</td>\n      <td>NaN</td>\n      <td>0.629870</td>\n      <td>preds_labels_2_5_std</td>\n    </tr>\n    <tr>\n      <th>1</th>\n      <td>average_precision_top5</td>\n      <td>NaN</td>\n      <td>0.171989</td>\n      <td>preds_labels_2_5_std</td>\n    </tr>\n  </tbody>\n</table>\n<p>154 rows × 4 columns</p>\n</div>"
     },
     "execution_count": 109,
     "metadata": {},
     "output_type": "execute_result"
    }
   ],
   "source": [
    "all_metrics = pd.concat(all_metrics)\n",
    "all_metrics\n",
    "# all_metrics.to_csv(\"../data/metrics_sport_vids.csv\", index=False)"
   ],
   "metadata": {
    "collapsed": false,
    "ExecuteTime": {
     "end_time": "2024-09-22T21:48:36.498415Z",
     "start_time": "2024-09-22T21:48:36.489242Z"
    }
   },
   "id": "e96c2374f0de5f58",
   "execution_count": 109
  },
  {
   "cell_type": "code",
   "outputs": [
    {
     "data": {
      "text/plain": "                    index  threshold     value                highlight_ratio\n1       average_precision        NaN  0.129459           preds_labels_10_perc\n1  average_precision_top5        NaN  0.243900           preds_labels_10_perc\n1       average_precision        NaN  0.190677           preds_labels_15_perc\n1  average_precision_top5        NaN  0.519450           preds_labels_15_perc\n1       average_precision        NaN  0.213430           preds_labels_20_perc\n1  average_precision_top5        NaN  0.432466           preds_labels_20_perc\n1       average_precision        NaN  0.241969           preds_labels_25_perc\n1  average_precision_top5        NaN  0.349986           preds_labels_25_perc\n1       average_precision        NaN  0.322803           preds_labels_30_perc\n1  average_precision_top5        NaN  0.658278           preds_labels_30_perc\n1       average_precision        NaN  0.140089  preds_labels_3_perc_1k_epochs\n1  average_precision_top5        NaN  0.687974  preds_labels_3_perc_1k_epochs\n1       average_precision        NaN  0.067212  preds_labels_3_perc_20_epochs\n1  average_precision_top5        NaN  0.066388  preds_labels_3_perc_20_epochs\n1       average_precision        NaN  0.125690             preds_labels_1_std\n1  average_precision_top5        NaN  0.184028             preds_labels_1_std\n1       average_precision        NaN  0.088365           preds_labels_1_5_std\n1  average_precision_top5        NaN  0.351180           preds_labels_1_5_std\n1       average_precision        NaN  0.060508             preds_labels_2_std\n1  average_precision_top5        NaN  0.149704             preds_labels_2_std\n1       average_precision        NaN  0.039066           preds_labels_2_5_std\n1  average_precision_top5        NaN  0.171989           preds_labels_2_5_std",
      "text/html": "<div>\n<style scoped>\n    .dataframe tbody tr th:only-of-type {\n        vertical-align: middle;\n    }\n\n    .dataframe tbody tr th {\n        vertical-align: top;\n    }\n\n    .dataframe thead th {\n        text-align: right;\n    }\n</style>\n<table border=\"1\" class=\"dataframe\">\n  <thead>\n    <tr style=\"text-align: right;\">\n      <th></th>\n      <th>index</th>\n      <th>threshold</th>\n      <th>value</th>\n      <th>highlight_ratio</th>\n    </tr>\n  </thead>\n  <tbody>\n    <tr>\n      <th>1</th>\n      <td>average_precision</td>\n      <td>NaN</td>\n      <td>0.129459</td>\n      <td>preds_labels_10_perc</td>\n    </tr>\n    <tr>\n      <th>1</th>\n      <td>average_precision_top5</td>\n      <td>NaN</td>\n      <td>0.243900</td>\n      <td>preds_labels_10_perc</td>\n    </tr>\n    <tr>\n      <th>1</th>\n      <td>average_precision</td>\n      <td>NaN</td>\n      <td>0.190677</td>\n      <td>preds_labels_15_perc</td>\n    </tr>\n    <tr>\n      <th>1</th>\n      <td>average_precision_top5</td>\n      <td>NaN</td>\n      <td>0.519450</td>\n      <td>preds_labels_15_perc</td>\n    </tr>\n    <tr>\n      <th>1</th>\n      <td>average_precision</td>\n      <td>NaN</td>\n      <td>0.213430</td>\n      <td>preds_labels_20_perc</td>\n    </tr>\n    <tr>\n      <th>1</th>\n      <td>average_precision_top5</td>\n      <td>NaN</td>\n      <td>0.432466</td>\n      <td>preds_labels_20_perc</td>\n    </tr>\n    <tr>\n      <th>1</th>\n      <td>average_precision</td>\n      <td>NaN</td>\n      <td>0.241969</td>\n      <td>preds_labels_25_perc</td>\n    </tr>\n    <tr>\n      <th>1</th>\n      <td>average_precision_top5</td>\n      <td>NaN</td>\n      <td>0.349986</td>\n      <td>preds_labels_25_perc</td>\n    </tr>\n    <tr>\n      <th>1</th>\n      <td>average_precision</td>\n      <td>NaN</td>\n      <td>0.322803</td>\n      <td>preds_labels_30_perc</td>\n    </tr>\n    <tr>\n      <th>1</th>\n      <td>average_precision_top5</td>\n      <td>NaN</td>\n      <td>0.658278</td>\n      <td>preds_labels_30_perc</td>\n    </tr>\n    <tr>\n      <th>1</th>\n      <td>average_precision</td>\n      <td>NaN</td>\n      <td>0.140089</td>\n      <td>preds_labels_3_perc_1k_epochs</td>\n    </tr>\n    <tr>\n      <th>1</th>\n      <td>average_precision_top5</td>\n      <td>NaN</td>\n      <td>0.687974</td>\n      <td>preds_labels_3_perc_1k_epochs</td>\n    </tr>\n    <tr>\n      <th>1</th>\n      <td>average_precision</td>\n      <td>NaN</td>\n      <td>0.067212</td>\n      <td>preds_labels_3_perc_20_epochs</td>\n    </tr>\n    <tr>\n      <th>1</th>\n      <td>average_precision_top5</td>\n      <td>NaN</td>\n      <td>0.066388</td>\n      <td>preds_labels_3_perc_20_epochs</td>\n    </tr>\n    <tr>\n      <th>1</th>\n      <td>average_precision</td>\n      <td>NaN</td>\n      <td>0.125690</td>\n      <td>preds_labels_1_std</td>\n    </tr>\n    <tr>\n      <th>1</th>\n      <td>average_precision_top5</td>\n      <td>NaN</td>\n      <td>0.184028</td>\n      <td>preds_labels_1_std</td>\n    </tr>\n    <tr>\n      <th>1</th>\n      <td>average_precision</td>\n      <td>NaN</td>\n      <td>0.088365</td>\n      <td>preds_labels_1_5_std</td>\n    </tr>\n    <tr>\n      <th>1</th>\n      <td>average_precision_top5</td>\n      <td>NaN</td>\n      <td>0.351180</td>\n      <td>preds_labels_1_5_std</td>\n    </tr>\n    <tr>\n      <th>1</th>\n      <td>average_precision</td>\n      <td>NaN</td>\n      <td>0.060508</td>\n      <td>preds_labels_2_std</td>\n    </tr>\n    <tr>\n      <th>1</th>\n      <td>average_precision_top5</td>\n      <td>NaN</td>\n      <td>0.149704</td>\n      <td>preds_labels_2_std</td>\n    </tr>\n    <tr>\n      <th>1</th>\n      <td>average_precision</td>\n      <td>NaN</td>\n      <td>0.039066</td>\n      <td>preds_labels_2_5_std</td>\n    </tr>\n    <tr>\n      <th>1</th>\n      <td>average_precision_top5</td>\n      <td>NaN</td>\n      <td>0.171989</td>\n      <td>preds_labels_2_5_std</td>\n    </tr>\n  </tbody>\n</table>\n</div>"
     },
     "execution_count": 110,
     "metadata": {},
     "output_type": "execute_result"
    }
   ],
   "source": [
    "all_metrics[(all_metrics['index'] == 'average_precision') | (all_metrics['index'] == 'average_precision_top5')]"
   ],
   "metadata": {
    "collapsed": false,
    "ExecuteTime": {
     "end_time": "2024-09-22T21:49:12.217986Z",
     "start_time": "2024-09-22T21:49:12.210179Z"
    }
   },
   "id": "5f95c10c47806e27",
   "execution_count": 110
  },
  {
   "cell_type": "code",
   "outputs": [],
   "source": [
    "all_metrics.to_csv(\"../data/metrics_sport_vids.csv\", index=False)"
   ],
   "metadata": {
    "collapsed": false,
    "ExecuteTime": {
     "end_time": "2024-09-22T21:49:57.720258Z",
     "start_time": "2024-09-22T21:49:57.714754Z"
    }
   },
   "id": "17f456ff725f1c19",
   "execution_count": 111
  }
 ],
 "metadata": {
  "kernelspec": {
   "display_name": "Python 3",
   "language": "python",
   "name": "python3"
  },
  "language_info": {
   "codemirror_mode": {
    "name": "ipython",
    "version": 2
   },
   "file_extension": ".py",
   "mimetype": "text/x-python",
   "name": "python",
   "nbconvert_exporter": "python",
   "pygments_lexer": "ipython2",
   "version": "2.7.6"
  }
 },
 "nbformat": 4,
 "nbformat_minor": 5
}
